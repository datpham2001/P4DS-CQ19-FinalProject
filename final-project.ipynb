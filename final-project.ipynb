{
 "cells": [
  {
   "cell_type": "markdown",
   "id": "9c7820c9",
   "metadata": {},
   "source": [
    "## ĐỒ ÁN CUỐI KÌ MÔN LẬP TRÌNH KHOA HỌC DỮ LIỆU NHÓM \n",
    "\n",
    "<table style=\"width:50%\">\n",
    "    <tr> \n",
    "        <th>MSSV</th>\n",
    "        <th>Họ và tên</th>\n",
    "    </tr>\n",
    "    <tr>\n",
    "        <td>19120473</td>\n",
    "        <td>Phạm Thành Đạt</td>\n",
    "    </tr>\n",
    "    <tr>\n",
    "        <td>19120684</td>\n",
    "        <td>Trần Bảo Tín</td>\n",
    "    </tr>\n",
    "</table>\n",
    "\n",
    "Link phân công công việc nhóm: <a href='https://docs.google.com/spreadsheets/d/1NN6jiHf6brtwZotZG_DtuIfzV0cHqAMhDPjVd1I06z8/edit?fbclid=IwAR2fk3cs1b3_GRGBNoSkw6xgqTroonEcg-3SDx-06UpIJ4XZddZZcPICdMg#gid=0'>Ở ĐÂY</a>"
   ]
  },
  {
   "cell_type": "markdown",
   "id": "91cfd7e0",
   "metadata": {},
   "source": [
    "## Import các thư viện cần thiết"
   ]
  },
  {
   "cell_type": "code",
   "execution_count": 21,
   "id": "9913958c",
   "metadata": {},
   "outputs": [],
   "source": [
    "import pandas as pd\n",
    "import numpy as np\n",
    "import matplotlib.pyplot as plt\n",
    "import seaborn as sns\n",
    "%matplotlib inline"
   ]
  },
  {
   "cell_type": "markdown",
   "id": "eb6a6c23",
   "metadata": {},
   "source": [
    "## Thu thập dữ liệu"
   ]
  },
  {
   "cell_type": "markdown",
   "id": "73e70466",
   "metadata": {},
   "source": [
    "- Nhóm em thu thập dữ liệu về **chuyển nhượng cầu thủ của các đội bóng ở 5 giải vô địch bóng đá nam hàng đầu của Châu Âu từ cuồi mùa giải năm 2014 trở về sau**. Dữ liệu lấy từ trang `Kaggle`, file dữ liệu là 'Transfer_data.csv', gốc file dữ liệu là <a href='https://www.kaggle.com/ogrofratesi/football-data?select=Transfer_data.csv&fbclid=IwAR1RxKLlrIlNG9DkyC6DjadHB4zaXjDxSaNkRS_O9c2UR1dCrp-_4_mmvq8'>ở đây</a>\n",
    "- Dữ liệu này là dữ liệu dạng public nên được cho phép người khác có thể lấy và sử dụng. License của dữ liệu là `CCO: Public Domain`."
   ]
  },
  {
   "cell_type": "markdown",
   "id": "bffd74c7",
   "metadata": {},
   "source": [
    "---"
   ]
  },
  {
   "cell_type": "markdown",
   "id": "eb3d62c7",
   "metadata": {},
   "source": [
    "## Khám phá dữ liệu"
   ]
  },
  {
   "cell_type": "markdown",
   "id": "80ea49d4",
   "metadata": {},
   "source": [
    "### Đọc dữ liệu từ file csv vào dataframe"
   ]
  },
  {
   "cell_type": "code",
   "execution_count": 22,
   "id": "c80ea9e3",
   "metadata": {},
   "outputs": [
    {
     "data": {
      "text/html": [
       "<div>\n",
       "<style scoped>\n",
       "    .dataframe tbody tr th:only-of-type {\n",
       "        vertical-align: middle;\n",
       "    }\n",
       "\n",
       "    .dataframe tbody tr th {\n",
       "        vertical-align: top;\n",
       "    }\n",
       "\n",
       "    .dataframe thead th {\n",
       "        text-align: right;\n",
       "    }\n",
       "</style>\n",
       "<table border=\"1\" class=\"dataframe\">\n",
       "  <thead>\n",
       "    <tr style=\"text-align: right;\">\n",
       "      <th></th>\n",
       "      <th>Unnamed: 0</th>\n",
       "      <th>Name</th>\n",
       "      <th>Position</th>\n",
       "      <th>Age</th>\n",
       "      <th>Team_from</th>\n",
       "      <th>League_from</th>\n",
       "      <th>Team_to</th>\n",
       "      <th>League_to</th>\n",
       "      <th>Season</th>\n",
       "      <th>Market_value</th>\n",
       "      <th>Transfer</th>\n",
       "    </tr>\n",
       "  </thead>\n",
       "  <tbody>\n",
       "    <tr>\n",
       "      <th>0</th>\n",
       "      <td>3467</td>\n",
       "      <td>Luis SuÃ¡rez</td>\n",
       "      <td>Centre-Forward</td>\n",
       "      <td>27</td>\n",
       "      <td>Liverpool</td>\n",
       "      <td>EPL</td>\n",
       "      <td>Barcelona</td>\n",
       "      <td>La_liga</td>\n",
       "      <td>2014</td>\n",
       "      <td>52.0</td>\n",
       "      <td>81.72</td>\n",
       "    </tr>\n",
       "    <tr>\n",
       "      <th>1</th>\n",
       "      <td>3468</td>\n",
       "      <td>James RodrÃ­guez</td>\n",
       "      <td>Attacking Midfield</td>\n",
       "      <td>23</td>\n",
       "      <td>Monaco</td>\n",
       "      <td>Ligue_1</td>\n",
       "      <td>Real Madrid</td>\n",
       "      <td>La_liga</td>\n",
       "      <td>2014</td>\n",
       "      <td>60.0</td>\n",
       "      <td>75.00</td>\n",
       "    </tr>\n",
       "    <tr>\n",
       "      <th>2</th>\n",
       "      <td>3469</td>\n",
       "      <td>Ãngel Di MarÃ­a</td>\n",
       "      <td>Right Winger</td>\n",
       "      <td>26</td>\n",
       "      <td>Real Madrid</td>\n",
       "      <td>La_liga</td>\n",
       "      <td>Manchester United</td>\n",
       "      <td>EPL</td>\n",
       "      <td>2014</td>\n",
       "      <td>50.0</td>\n",
       "      <td>75.00</td>\n",
       "    </tr>\n",
       "    <tr>\n",
       "      <th>3</th>\n",
       "      <td>3470</td>\n",
       "      <td>David Luiz</td>\n",
       "      <td>Centre-Back</td>\n",
       "      <td>27</td>\n",
       "      <td>Chelsea</td>\n",
       "      <td>EPL</td>\n",
       "      <td>Paris Saint Germain</td>\n",
       "      <td>Ligue_1</td>\n",
       "      <td>2014</td>\n",
       "      <td>26.0</td>\n",
       "      <td>49.50</td>\n",
       "    </tr>\n",
       "    <tr>\n",
       "      <th>4</th>\n",
       "      <td>3471</td>\n",
       "      <td>Alexis SÃ¡nchez</td>\n",
       "      <td>Left Winger</td>\n",
       "      <td>25</td>\n",
       "      <td>Barcelona</td>\n",
       "      <td>La_liga</td>\n",
       "      <td>Arsenal</td>\n",
       "      <td>EPL</td>\n",
       "      <td>2014</td>\n",
       "      <td>30.0</td>\n",
       "      <td>42.50</td>\n",
       "    </tr>\n",
       "  </tbody>\n",
       "</table>\n",
       "</div>"
      ],
      "text/plain": [
       "   Unnamed: 0              Name            Position  Age    Team_from  \\\n",
       "0        3467      Luis SuÃ¡rez      Centre-Forward   27    Liverpool   \n",
       "1        3468  James RodrÃ­guez  Attacking Midfield   23       Monaco   \n",
       "2        3469  Ãngel Di MarÃ­a        Right Winger   26  Real Madrid   \n",
       "3        3470        David Luiz         Centre-Back   27      Chelsea   \n",
       "4        3471   Alexis SÃ¡nchez         Left Winger   25    Barcelona   \n",
       "\n",
       "  League_from              Team_to League_to  Season  Market_value  Transfer  \n",
       "0         EPL            Barcelona   La_liga    2014          52.0     81.72  \n",
       "1     Ligue_1          Real Madrid   La_liga    2014          60.0     75.00  \n",
       "2     La_liga    Manchester United       EPL    2014          50.0     75.00  \n",
       "3         EPL  Paris Saint Germain   Ligue_1    2014          26.0     49.50  \n",
       "4     La_liga              Arsenal       EPL    2014          30.0     42.50  "
      ]
     },
     "execution_count": 22,
     "metadata": {},
     "output_type": "execute_result"
    }
   ],
   "source": [
    "transfer_df = pd.read_csv('./data/Transfer_data.csv', encoding='utf-8')\n",
    "transfer_df.head()"
   ]
  },
  {
   "cell_type": "markdown",
   "id": "4f7a1432",
   "metadata": {},
   "source": [
    "### Dữ liệu gồm bao nhiêu dòng và cột ?"
   ]
  },
  {
   "cell_type": "code",
   "execution_count": 23,
   "id": "84b07ed1",
   "metadata": {},
   "outputs": [
    {
     "name": "stdout",
     "output_type": "stream",
     "text": [
      "Number of rows: 934\n",
      "Number of columns: 11\n"
     ]
    }
   ],
   "source": [
    "num_rows, num_cols = transfer_df.shape\n",
    "print('Number of rows: {}\\nNumber of columns: {}'.format(num_rows, num_cols))"
   ]
  },
  {
   "cell_type": "markdown",
   "id": "ca05bbcd",
   "metadata": {},
   "source": [
    "### Mỗi dòng có ý nghĩa gì? Có vấn đề các dòng có ý nghĩa khác nhau không?"
   ]
  },
  {
   "cell_type": "markdown",
   "id": "f64407eb",
   "metadata": {},
   "source": [
    "Theo mô tả và quan sát sơ bộ qua tập dữ liệu thì mỗi dòng cho biết thông tin chuyển nhượng của một cầu thủ. Không có dòng nào có dấu hiệu khác nhau so với cá dòng còn lại "
   ]
  },
  {
   "cell_type": "markdown",
   "id": "0c3ddd2d",
   "metadata": {},
   "source": [
    "### Dữ liệu các dòng có bị lặp không ?"
   ]
  },
  {
   "cell_type": "code",
   "execution_count": 24,
   "id": "2e5182e1",
   "metadata": {},
   "outputs": [
    {
     "data": {
      "text/plain": [
       "False"
      ]
     },
     "execution_count": 24,
     "metadata": {},
     "output_type": "execute_result"
    }
   ],
   "source": [
    "is_duplicated_row = False if len(transfer_df.drop_duplicates()) == transfer_df.shape[0] else True\n",
    "is_duplicated_row"
   ]
  },
  {
   "cell_type": "markdown",
   "id": "e1fbb61d",
   "metadata": {},
   "source": [
    "### Mỗi cột có ý nghĩa gì ?"
   ]
  },
  {
   "cell_type": "markdown",
   "id": "f4e4db9a",
   "metadata": {},
   "source": [
    "Dưới đây là phần mô tả của các cột dữ liệu trong file `Transfer_data.csv` trên Kaggle:\n",
    "- **Unnamed: 0**: Không xác định\n",
    "- **Name**: Tên cầu thủ chuyển nhượng\n",
    "- **Position**: Vị trí thi đấu của cầu thủ\n",
    "- **Age**: Tuổi cầu thủ\n",
    "- **Team_from**: Tên câu lạc bộ đội bóng mà cầu thủ đó thi đấu trước khi chuyển nhượng\n",
    "- **League_from**: Tên giải đấu của câu lạc bộ cầu thủ đó thi đấu trước khi chuyển nhượng\n",
    "- **Team_to**: Tên câu lạc bộ đội bóng mà cầu thủ đó chuyển nhượng đến\n",
    "- **League_to**: Tên giải đấu của câu lạc bộ cầu thủ đó chuyển nhượng đến\n",
    "- **Season**: Mùa giải chuyển nhượng\n",
    "- **Market_value**: Giá trị của cầu thủ trên thị trường chuyển nhượng (tính theo đơn vị triệu euro)\n",
    "- **Transfer**: Giá trị chuyển nhượng thực tế mà câu lạc bộ mới phải trả để sở hữu cầu thủ đó (tính theo đơn vị triệu euro)"
   ]
  },
  {
   "cell_type": "markdown",
   "id": "d0ce5a1d",
   "metadata": {},
   "source": [
    "### Mỗi cột hiện đang có kiểu dữ liệu gì? Có cột nào có kiểu dữ liệu chưa phù hợp để có thể xử lý tiếp không?"
   ]
  },
  {
   "cell_type": "markdown",
   "id": "7bea7565",
   "metadata": {},
   "source": [
    "Lấy `dtype` là kiểu dữ liệu của mỗi cột trong dữ liệu và lưu kết quả vào series col_dtypes, series này có index là tên các cột "
   ]
  },
  {
   "cell_type": "code",
   "execution_count": 25,
   "id": "2ae4e8e4",
   "metadata": {
    "scrolled": true
   },
   "outputs": [
    {
     "data": {
      "text/plain": [
       "Unnamed: 0        int64\n",
       "Name             object\n",
       "Position         object\n",
       "Age               int64\n",
       "Team_from        object\n",
       "League_from      object\n",
       "Team_to          object\n",
       "League_to        object\n",
       "Season            int64\n",
       "Market_value    float64\n",
       "Transfer        float64\n",
       "dtype: object"
      ]
     },
     "execution_count": 25,
     "metadata": {},
     "output_type": "execute_result"
    }
   ],
   "source": [
    "col_dtypes = pd.Series(transfer_df.dtypes, transfer_df.columns)\n",
    "col_dtypes"
   ]
  },
  {
   "cell_type": "markdown",
   "id": "026d769b",
   "metadata": {},
   "source": [
    "Ta cần kiểm tra các cột có kiểu dữ liệu là `object` vì kiểu dữ liệu này có thể bao gồm nhiều kiểu dữ liệu khác nhau trong nó.<br>\n",
    "Viết 1 hàm có đầu vào là 1 cột (series) có dtype là `objject` và trả về kiểu dữ liệu thật sự của cột dữ liệu đó"
   ]
  },
  {
   "cell_type": "code",
   "execution_count": 26,
   "id": "3272b51a",
   "metadata": {},
   "outputs": [],
   "source": [
    "def open_dtype_object(s):\n",
    "    dtypes = set()\n",
    "    s.apply(lambda x: dtypes.add(type(x)))\n",
    "    return dtypes"
   ]
  },
  {
   "cell_type": "code",
   "execution_count": 27,
   "id": "f560ef2d",
   "metadata": {},
   "outputs": [
    {
     "name": "stdout",
     "output_type": "stream",
     "text": [
      "Name --> {<class 'str'>}\n",
      "Position --> {<class 'str'>}\n",
      "Team_from --> {<class 'str'>}\n",
      "League_from --> {<class 'str'>}\n",
      "Team_to --> {<class 'str'>}\n",
      "League_to --> {<class 'str'>}\n"
     ]
    }
   ],
   "source": [
    "# Kiêm tra kết quả của từng cột có dtype là object\n",
    "col_names = ['Name', 'Position', 'Team_from', 'League_from', 'Team_to', 'League_to']\n",
    "for col in col_names:\n",
    "    print(f'{col} --> {open_dtype_object(transfer_df[col])}')"
   ]
  },
  {
   "cell_type": "markdown",
   "id": "ac9c5a95",
   "metadata": {},
   "source": [
    "Ta có thể thấy kiểu dữ liệu của các cột trên đều là `str` nên hợp lí  "
   ]
  },
  {
   "cell_type": "markdown",
   "id": "131f9f14",
   "metadata": {},
   "source": [
    "**Các vấn đề cần tiền xử lý:**\n",
    "- Xóa cột `Unnamed: 0` vì cột này không có ý nghĩa gì để khám phá"
   ]
  },
  {
   "cell_type": "markdown",
   "id": "6174c078",
   "metadata": {},
   "source": [
    "## Tiền xử lý dữ liệu"
   ]
  },
  {
   "cell_type": "markdown",
   "id": "27bacf46",
   "metadata": {},
   "source": [
    "### Xóa cột `Unnamed: 0` trong dữ liệu"
   ]
  },
  {
   "cell_type": "code",
   "execution_count": 28,
   "id": "6a9eb9d5",
   "metadata": {},
   "outputs": [],
   "source": [
    "transfer_df.drop(columns=['Unnamed: 0'], inplace=True)"
   ]
  },
  {
   "cell_type": "markdown",
   "id": "505434b8",
   "metadata": {},
   "source": [
    "## Khám phá dữ liệu (tiếp tục)"
   ]
  },
  {
   "cell_type": "markdown",
   "id": "e79da337",
   "metadata": {},
   "source": [
    "### Với mỗi cột có kiểu dữ liệu dạng số (numerical), các giá trị được phân bố như thế nào ?"
   ]
  },
  {
   "cell_type": "markdown",
   "id": "d3262fa4",
   "metadata": {},
   "source": [
    "Ta có các cột có kiểu dữ liệu numeric là: `Age`, `Season`, `Market_value`, `Transfer`<br>\n",
    "<br>Với mỗi cột numeric em sẽ tính tỉ lệ % giá trị thiếu (từ 0 đến 100), min, max. Sau đó em lưu kết quả vào dataframe `nume_col_profiles_df`. Dataframe này có 3 dòng là \"missing_ratio\", \"min\", \"max\"; và có 4 cột tương ứng với 4 cột ở trên "
   ]
  },
  {
   "cell_type": "code",
   "execution_count": 29,
   "id": "d982e739",
   "metadata": {},
   "outputs": [
    {
     "data": {
      "text/html": [
       "<div>\n",
       "<style scoped>\n",
       "    .dataframe tbody tr th:only-of-type {\n",
       "        vertical-align: middle;\n",
       "    }\n",
       "\n",
       "    .dataframe tbody tr th {\n",
       "        vertical-align: top;\n",
       "    }\n",
       "\n",
       "    .dataframe thead th {\n",
       "        text-align: right;\n",
       "    }\n",
       "</style>\n",
       "<table border=\"1\" class=\"dataframe\">\n",
       "  <thead>\n",
       "    <tr style=\"text-align: right;\">\n",
       "      <th></th>\n",
       "      <th>Age</th>\n",
       "      <th>Season</th>\n",
       "      <th>Market_value</th>\n",
       "      <th>Transfer</th>\n",
       "    </tr>\n",
       "  </thead>\n",
       "  <tbody>\n",
       "    <tr>\n",
       "      <th>missing_ratio</th>\n",
       "      <td>0.0</td>\n",
       "      <td>0.0</td>\n",
       "      <td>0.535332</td>\n",
       "      <td>0.0</td>\n",
       "    </tr>\n",
       "    <tr>\n",
       "      <th>min</th>\n",
       "      <td>16.0</td>\n",
       "      <td>2014.0</td>\n",
       "      <td>0.150000</td>\n",
       "      <td>4.0</td>\n",
       "    </tr>\n",
       "    <tr>\n",
       "      <th>max</th>\n",
       "      <td>33.0</td>\n",
       "      <td>2018.0</td>\n",
       "      <td>120.000000</td>\n",
       "      <td>222.0</td>\n",
       "    </tr>\n",
       "  </tbody>\n",
       "</table>\n",
       "</div>"
      ],
      "text/plain": [
       "                Age  Season  Market_value  Transfer\n",
       "missing_ratio   0.0     0.0      0.535332       0.0\n",
       "min            16.0  2014.0      0.150000       4.0\n",
       "max            33.0  2018.0    120.000000     222.0"
      ]
     },
     "execution_count": 29,
     "metadata": {},
     "output_type": "execute_result"
    }
   ],
   "source": [
    "def missing_ratio(df):\n",
    "    return df.isna().mean()*100\n",
    "\n",
    "nume_cols = ['Age', 'Season', 'Market_value', 'Transfer']\n",
    "nume_col_profiles_df = transfer_df[nume_cols].agg([missing_ratio, min, max])\n",
    "nume_col_profiles_df"
   ]
  },
  {
   "cell_type": "markdown",
   "id": "6063ab69",
   "metadata": {},
   "source": [
    "Các cột trên có min và max có lẽ là không có gì bất thường"
   ]
  },
  {
   "cell_type": "markdown",
   "id": "a7475010",
   "metadata": {},
   "source": [
    "### Với mỗi cột có kiểu dữ liệu dạng phân loại (categorical), các giá trị được phân bố như thế nào ?\n"
   ]
  },
  {
   "cell_type": "markdown",
   "id": "7612b473",
   "metadata": {},
   "source": [
    "Dataframe đang xử lý có các cột dạng categorical là: `Name`, `Position`, `Team_from`, `League_from`, `Team_to`, `League_to`<br>\n",
    "<br>Với mỗi cột categorical, em sẽ tính tỉ lệ % giá trị thiếu (từ 0 đến 100), số lượng giá trị khác nhau (không xét giá trị thiếu), list các giá trị khác nhau (lấy 5 mẫu) (không xét giá trị thiếu). Sau đó em lưu kết quả vào dataframe `cate_col_profiles_df`. Dataframe này có 3 dòng là \"missing_ratio\", \"num_diff_vals\", \"diff_vals\"; và gồm 6 cột tương ứng ở trên"
   ]
  },
  {
   "cell_type": "code",
   "execution_count": 30,
   "id": "c6089fa6",
   "metadata": {},
   "outputs": [
    {
     "data": {
      "text/html": [
       "<div>\n",
       "<style scoped>\n",
       "    .dataframe tbody tr th:only-of-type {\n",
       "        vertical-align: middle;\n",
       "    }\n",
       "\n",
       "    .dataframe tbody tr th {\n",
       "        vertical-align: top;\n",
       "    }\n",
       "\n",
       "    .dataframe thead th {\n",
       "        text-align: right;\n",
       "    }\n",
       "</style>\n",
       "<table border=\"1\" class=\"dataframe\">\n",
       "  <thead>\n",
       "    <tr style=\"text-align: right;\">\n",
       "      <th></th>\n",
       "      <th>Name</th>\n",
       "      <th>Position</th>\n",
       "      <th>Team_from</th>\n",
       "      <th>League_from</th>\n",
       "      <th>Team_to</th>\n",
       "      <th>League_to</th>\n",
       "    </tr>\n",
       "  </thead>\n",
       "  <tbody>\n",
       "    <tr>\n",
       "      <th>missing_ratio</th>\n",
       "      <td>0.0</td>\n",
       "      <td>0.0</td>\n",
       "      <td>0.0</td>\n",
       "      <td>0.0</td>\n",
       "      <td>0.0</td>\n",
       "      <td>0.0</td>\n",
       "    </tr>\n",
       "    <tr>\n",
       "      <th>num_diff_vals</th>\n",
       "      <td>789</td>\n",
       "      <td>13</td>\n",
       "      <td>222</td>\n",
       "      <td>37</td>\n",
       "      <td>91</td>\n",
       "      <td>5</td>\n",
       "    </tr>\n",
       "    <tr>\n",
       "      <th>diff_vals</th>\n",
       "      <td>[Luis SuÃ¡rez, James RodrÃ­guez, Ãngel Di Mar...</td>\n",
       "      <td>[Centre-Forward, Attacking Midfield, Right Win...</td>\n",
       "      <td>[Liverpool, Monaco, Real Madrid, Chelsea, Barc...</td>\n",
       "      <td>[EPL, Ligue_1, La_liga, Serie_A, Liga NOS]</td>\n",
       "      <td>[Barcelona, Real Madrid, Manchester United, Pa...</td>\n",
       "      <td>[La_liga, EPL, Ligue_1, Bundesliga, Serie_A]</td>\n",
       "    </tr>\n",
       "  </tbody>\n",
       "</table>\n",
       "</div>"
      ],
      "text/plain": [
       "                                                            Name  \\\n",
       "missing_ratio                                                0.0   \n",
       "num_diff_vals                                                789   \n",
       "diff_vals      [Luis SuÃ¡rez, James RodrÃ­guez, Ãngel Di Mar...   \n",
       "\n",
       "                                                        Position  \\\n",
       "missing_ratio                                                0.0   \n",
       "num_diff_vals                                                 13   \n",
       "diff_vals      [Centre-Forward, Attacking Midfield, Right Win...   \n",
       "\n",
       "                                                       Team_from  \\\n",
       "missing_ratio                                                0.0   \n",
       "num_diff_vals                                                222   \n",
       "diff_vals      [Liverpool, Monaco, Real Madrid, Chelsea, Barc...   \n",
       "\n",
       "                                              League_from  \\\n",
       "missing_ratio                                         0.0   \n",
       "num_diff_vals                                          37   \n",
       "diff_vals      [EPL, Ligue_1, La_liga, Serie_A, Liga NOS]   \n",
       "\n",
       "                                                         Team_to  \\\n",
       "missing_ratio                                                0.0   \n",
       "num_diff_vals                                                 91   \n",
       "diff_vals      [Barcelona, Real Madrid, Manchester United, Pa...   \n",
       "\n",
       "                                                  League_to  \n",
       "missing_ratio                                           0.0  \n",
       "num_diff_vals                                             5  \n",
       "diff_vals      [La_liga, EPL, Ligue_1, Bundesliga, Serie_A]  "
      ]
     },
     "execution_count": 30,
     "metadata": {},
     "output_type": "execute_result"
    }
   ],
   "source": [
    "def missing_ratio(df):\n",
    "    return df.isna().mean()*100\n",
    "def num_diff_vals(df):\n",
    "    return len(df.dropna().unique())\n",
    "def diff_vals(df):\n",
    "    return df.dropna().unique()[:5]\n",
    "\n",
    "cate_cols = ['Name', 'Position', 'Team_from', 'League_from', 'Team_to', 'League_to']\n",
    "cate_col_profiles_df = transfer_df[cate_cols].agg([missing_ratio, num_diff_vals, diff_vals])\n",
    "cate_col_profiles_df"
   ]
  },
  {
   "cell_type": "markdown",
   "id": "3ddcfdfd",
   "metadata": {},
   "source": [
    "Nhìn chung không có gì bất thường ở các cột dữ liệu này"
   ]
  },
  {
   "cell_type": "code",
   "execution_count": 31,
   "id": "b5979641",
   "metadata": {},
   "outputs": [
    {
     "data": {
      "text/plain": [
       "0      27\n",
       "1      23\n",
       "2      26\n",
       "3      27\n",
       "4      25\n",
       "       ..\n",
       "929    22\n",
       "930    22\n",
       "931    18\n",
       "932    29\n",
       "933    28\n",
       "Name: Age, Length: 934, dtype: int64"
      ]
     },
     "execution_count": 31,
     "metadata": {},
     "output_type": "execute_result"
    }
   ],
   "source": [
    "transfer_df['Age']"
   ]
  },
  {
   "cell_type": "markdown",
   "id": "4ed76d66",
   "metadata": {},
   "source": [
    "Sau 4 năm giải đấu nào có sự cạnh tranh lớn nhất"
   ]
  },
  {
   "cell_type": "markdown",
   "id": "138923a0",
   "metadata": {},
   "source": [
    "Trả lời câu hỏi này ta sẽ biết được đâu là giải đấu đáng xem nhất để từ đó tối đa hóa các kế hoạch(Quảng cáo, truyền hình,...)\n",
    "Để trả lời câu hỏi này, ta sẽ xem tại giải nào mà các câu lạc bộ bỏ tiền để mua nhiều câu thủ nhất"
   ]
  },
  {
   "cell_type": "code",
   "execution_count": 32,
   "id": "996f3fbe",
   "metadata": {},
   "outputs": [
    {
     "data": {
      "image/png": "[encoded data removed]",
      "text/plain": [
       "<Figure size 432x288 with 1 Axes>"
      ]
     },
     "metadata": {},
     "output_type": "display_data"
    }
   ],
   "source": [
    "league_name, count = np.unique(transfer_df['League_to'], return_counts = True)\n",
    "plt.pie(count, labels = league_name)\n",
    "plt.show()"
   ]
  },
  {
   "cell_type": "markdown",
   "id": "e1db9c07",
   "metadata": {},
   "source": [
    "### Có phải tuổi nghề của môn bóng đá này là 30 hay không ?"
   ]
  },
  {
   "cell_type": "markdown",
   "id": "74b43961",
   "metadata": {},
   "source": [
    "Để trả lời câu hỏi trên, cần thực hiện các bước như sau:\n",
    "- Bước 1: Trích series từ cột Age với tên `age_df` chứa toàn bộ danh sách tuổi của cầu thủ chuyển nhượng\n",
    "- Bước 2: Lưu số các cầu thủ thuộc các khoảng tuổi khác nhau vào 1 dictionary\n",
    "- Bước 3: Chia tổng số cầu thủ trong từng khoảng tuổi cho tổng tất cả cầu thủ chuyển nhượng để biết được số lượng phần trăm rồi vẽ đồ thị minh họa"
   ]
  },
  {
   "cell_type": "markdown",
   "id": "8dbf8464",
   "metadata": {},
   "source": [
    "Code bước 1"
   ]
  },
  {
   "cell_type": "code",
   "execution_count": 33,
   "id": "4dc2846d",
   "metadata": {},
   "outputs": [],
   "source": [
    "age_df = transfer_df['Age']\n",
    "\n",
    "list_range_age = ['x < 20', '20 <= x < 25', '25 <= x < 30', 'x >= 30']\n",
    "\n",
    "dict_age = dict.fromkeys(list_range_age, 0)"
   ]
  },
  {
   "cell_type": "markdown",
   "id": "989bffba",
   "metadata": {},
   "source": [
    "Code bước 2"
   ]
  },
  {
   "cell_type": "code",
   "execution_count": 34,
   "id": "8d46a6df",
   "metadata": {},
   "outputs": [],
   "source": [
    "def countAge(age):\n",
    "    if age < 20:\n",
    "        dict_age['x < 20'] += 1\n",
    "    elif age >= 20 and age < 25:\n",
    "        dict_age['20 <= x < 25'] += 1\n",
    "    elif age >= 25 and age < 30:\n",
    "        dict_age['25 <= x < 30'] += 1\n",
    "    elif age >= 30:\n",
    "        dict_age['x >= 30'] += 1\n",
    "\n",
    "age_df.apply(countAge)\n",
    "dict_age_df = pd.DataFrame.from_dict(dict_age, orient = 'index')"
   ]
  },
  {
   "cell_type": "markdown",
   "id": "f5ff91a0",
   "metadata": {},
   "source": [
    "Code bước 3"
   ]
  },
  {
   "cell_type": "code",
   "execution_count": 35,
   "id": "4121d8da",
   "metadata": {},
   "outputs": [
    {
     "data": {
      "text/plain": [
       "Text(0.5, 0, 'Tỉ lệ %')"
      ]
     },
     "execution_count": 35,
     "metadata": {},
     "output_type": "execute_result"
    },
    {
     "data": {
      "image/png": "[encoded data removed]",
      "text/plain": [
       "<Figure size 432x288 with 1 Axes>"
      ]
     },
     "metadata": {
      "needs_background": "light"
     },
     "output_type": "display_data"
    }
   ],
   "source": [
    "dict_age_df.columns = ['Mount_footballer']\n",
    "\n",
    "ax = (dict_age_df['Mount_footballer'] / dict_age_df['Mount_footballer'].sum() * 100).round(1).sort_values(ascending=False).plot.barh()\n",
    "ax.set_xlabel('Tỉ lệ %')"
   ]
  },
  {
   "cell_type": "markdown",
   "id": "cec4d042",
   "metadata": {},
   "source": [
    "**Nhận xét:** Sau các mùa giải thì có vẻ sức hút của cầu thủ trên 30 tuổi rất kém so với các lứa nhỏ hơn, vì vậy sau 30 tuổi mà vẫn dữ được nghiệp cầu thủ là 1 lựa chọn vô cùng khó khăn và khó thành công được."
   ]
  },
  {
   "cell_type": "markdown",
   "id": "e6f2df7a",
   "metadata": {},
   "source": [
    "### Độ hot của các cầu thủ chuyển nhượng theo từng vị trí tiền đạo, tiền vệ, hậu vệ và thủ môn theo từng mùa giải ?"
   ]
  },
  {
   "cell_type": "markdown",
   "id": "3190e1fc",
   "metadata": {},
   "source": [
    "Để trả lời câu hỏi trên, cần thực hiện các bước như sau:\n",
    "- Bước 1: Tạo ra 1 cột mới tên là `Pos` để chứa vị trí tổng quát hơn từ cột `Position`.\n",
    "- Bước 2: Theo từng mùa mà tính tổng số lượng của mỗi loại vị trí được chuyển nhượng\n",
    "- Bước 3: Từ bước 2 ta đã có 1 dict chứa tổng số lượng cầu thủ chuyển nhượng theo từng vị trí của từng mùa mà vẽ đồ thị minh họa"
   ]
  },
  {
   "cell_type": "markdown",
   "id": "c4bd9d09",
   "metadata": {},
   "source": [
    "Code bước 1"
   ]
  },
  {
   "cell_type": "code",
   "execution_count": 36,
   "id": "3e3a4394",
   "metadata": {},
   "outputs": [],
   "source": [
    "dict_pos = dict()\n",
    "dict_pos['striker'] = ['Centre-Forward', 'Right Winger', 'Second Striker', 'Left Winger']\n",
    "dict_pos['defender'] = ['Centre-Back', 'Left-Back', 'Right-Back']\n",
    "dict_pos['midfielder'] = ['Left Midfield', 'Right Midfield', 'Attacking Midfield',  'Defensive Midfield',  'Central Midfield']\n",
    "dict_pos['goalkeeper'] = ['Goalkeeper']\n",
    "\n",
    "def Choose_pos(pos):\n",
    "    for key, value in dict_pos.items():\n",
    "         if pos in value:\n",
    "            return key\n",
    "transfer_df['Pos'] = transfer_df['Position'].apply(Choose_pos)"
   ]
  },
  {
   "cell_type": "markdown",
   "id": "eae34ed9",
   "metadata": {},
   "source": [
    "Code bước 2"
   ]
  },
  {
   "cell_type": "code",
   "execution_count": 37,
   "id": "14c37adb",
   "metadata": {},
   "outputs": [],
   "source": [
    "season = list(transfer_df['Season'].unique())\n",
    "\n",
    "cols = ['Season', 'Pos']\n",
    "pos_ss_df = transfer_df[cols]\n",
    "\n",
    "\n",
    "list_count = dict()\n",
    "for item in dict_pos.keys():\n",
    "    list_count[item] = list(pos_ss_df.where(pos_ss_df['Pos'] == item).dropna().groupby('Season')['Pos'].count())"
   ]
  },
  {
   "cell_type": "markdown",
   "id": "ac167166",
   "metadata": {},
   "source": [
    "Code bước 3"
   ]
  },
  {
   "cell_type": "code",
   "execution_count": 38,
   "id": "97b92e75",
   "metadata": {},
   "outputs": [
    {
     "data": {
      "image/png": "[encoded data removed]",
      "text/plain": [
       "<Figure size 800x300 with 4 Axes>"
      ]
     },
     "metadata": {
      "needs_background": "light"
     },
     "output_type": "display_data"
    }
   ],
   "source": [
    "fig, (strike, midfield, defend, goalkeep) = plt.subplots(1,4, figsize=(8,3), sharey=True, dpi=100)\n",
    "strike.plot(season, list_count['striker'], 'ro-')\n",
    "midfield.plot(season, list_count['midfielder'], 'go-')\n",
    "defend.plot(season, list_count['defender'], 'bo-')\n",
    "goalkeep.plot(season, list_count['goalkeeper'], 'yo-')\n",
    "\n",
    "strike.set_title('striker'); \n",
    "midfield.set_title('midfielder')\n",
    "defend.set_title('defender')\n",
    "goalkeep.set_title('goalkeeper')\n",
    "\n",
    "strike.set_xlabel('Year');  midfield.set_xlabel('Year');  defend.set_xlabel('Year'); goalkeep.set_xlabel('Year');\n",
    "strike.set_ylabel('Mount');  midfield.set_ylabel('Mount');  defend.set_ylabel('Mount'); goalkeep.set_ylabel('Mount');  \n",
    "\n",
    "plt.tight_layout()\n",
    "plt.show()"
   ]
  },
  {
   "cell_type": "markdown",
   "id": "73b9be98",
   "metadata": {},
   "source": [
    "**Nhận xét:** Sau các mùa giải thì sức hút của tiền đạo là cao hơn nhiều so với các vị trí còn lại, tiền vệ và hậu vệ thì ngang nhau và còn thủ môn thì rất ít được quan tâm so với các vị trí khác."
   ]
  },
  {
   "cell_type": "markdown",
   "id": "948c398d",
   "metadata": {},
   "source": [
    "### Mức giá trung bình của từng loại vị trí trên thị trường chuyển nhượng như thế nào ?"
   ]
  },
  {
   "cell_type": "markdown",
   "id": "1d94eb04",
   "metadata": {},
   "source": [
    "Để trả lời câu hỏi trên, cần thực hiện các bước như sau:\n",
    "- Bước 1: Tạo ra 1 cột mới tên là `Pos` để chứa vị trí tổng quát hơn từ cột `Position`.\n",
    "- Bước 2: Theo từng mùa mà tính giá trị chuyển nhượng trung bình của từng vị trí và lưu vào 1 dataframe. `pos_trasfer_per_season_df` rồi vẽ đồ thị minh họa."
   ]
  },
  {
   "cell_type": "markdown",
   "id": "c54a3777",
   "metadata": {},
   "source": [
    "Code bước 1"
   ]
  },
  {
   "cell_type": "code",
   "execution_count": 39,
   "id": "56cceae5",
   "metadata": {},
   "outputs": [],
   "source": [
    "dict_pos = dict()\n",
    "dict_pos['striker'] = ['Centre-Forward', 'Right Winger', 'Second Striker', 'Left Winger']\n",
    "dict_pos['defender'] = ['Centre-Back', 'Left-Back', 'Right-Back']\n",
    "dict_pos['midfielder'] = ['Left Midfield', 'Right Midfield', 'Attacking Midfield',  'Defensive Midfield',  'Central Midfield']\n",
    "dict_pos['goalkeeper'] = ['Goalkeeper']\n",
    "\n",
    "def Choose_pos(pos):\n",
    "    for key, value in dict_pos.items():\n",
    "         if pos in value:\n",
    "            return key\n",
    "transfer_df['Pos'] = transfer_df['Position'].apply(Choose_pos)"
   ]
  },
  {
   "cell_type": "markdown",
   "id": "db7e77a9",
   "metadata": {},
   "source": [
    "Code bước 2"
   ]
  },
  {
   "cell_type": "code",
   "execution_count": 40,
   "id": "47ff4fdb",
   "metadata": {},
   "outputs": [
    {
     "data": {
      "image/png": "[encoded data removed]",
      "text/plain": [
       "<Figure size 432x288 with 2 Axes>"
      ]
     },
     "metadata": {
      "needs_background": "light"
     },
     "output_type": "display_data"
    }
   ],
   "source": [
    "season = list(transfer_df['Season'].unique())\n",
    "\n",
    "cols = ['Season', 'Pos', 'Transfer']\n",
    "pos_ss_df = transfer_df[cols]\n",
    "\n",
    "\n",
    "list_count = dict()\n",
    "for item in dict_pos.keys():\n",
    "    list_count[item] = list(pos_ss_df.where(pos_ss_df['Pos'] == item).dropna().groupby('Season')['Transfer'].mean().round(3))\n",
    "\n",
    "pos_trasfer_per_season_df = pd.DataFrame(list_count.values(), columns=season, index = list_count.keys())\n",
    "\n",
    "sns.heatmap(pos_trasfer_per_season_df, annot=True)\n",
    "plt.show()"
   ]
  },
  {
   "cell_type": "markdown",
   "id": "34632698",
   "metadata": {},
   "source": [
    "**Nhận xét:** Giá trị của cầu thủ tăng theo từng năm, có lẽ do lứa cầu thủ càng ngày càng đắt giá chăng ? và nhìn chung thì cũng không có sự khác biệt gì quá lớn giữa các giá trị chuyển nhượng trung bình của từng vị trí."
   ]
  }
 ],
 "metadata": {
  "kernelspec": {
   "display_name": "Python 3",
   "language": "python",
   "name": "python3"
  },
  "language_info": {
   "codemirror_mode": {
    "name": "ipython",
    "version": 3
   },
   "file_extension": ".py",
   "mimetype": "text/x-python",
   "name": "python",
   "nbconvert_exporter": "python",
   "pygments_lexer": "ipython3",
   "version": "3.8.8"
  }
 },
 "nbformat": 4,
 "nbformat_minor": 5
}
