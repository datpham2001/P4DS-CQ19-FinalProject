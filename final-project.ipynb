{
 "cells": [
  {
   "cell_type": "markdown",
   "id": "50851f86",
   "metadata": {},
   "source": [
    "## ĐỒ ÁN CUỐI KÌ MÔN LẬP TRÌNH KHOA HỌC DỮ LIỆU NHÓM \n",
    "\n",
    "<table style=\"width:50%\">\n",
    "    <tr> \n",
    "        <th>MSSV</th>\n",
    "        <th>Họ và tên</th>\n",
    "    </tr>\n",
    "    <tr>\n",
    "        <td>19120473</td>\n",
    "        <td>Phạm Thành Đạt</td>\n",
    "    </tr>\n",
    "    <tr>\n",
    "        <td>19120684</td>\n",
    "        <td>Trần Bảo Tín</td>\n",
    "    </tr>\n",
    "</table>\n",
    "\n",
    "Link phân công công việc nhóm: <a href='https://docs.google.com/spreadsheets/d/1NN6jiHf6brtwZotZG_DtuIfzV0cHqAMhDPjVd1I06z8/edit#gid=0'>Ở ĐÂY</a></br>\n",
    "Link github: <a href='https://github.com/datpham2001/P4DS-CQ19-FinalProject'>Ở ĐÂY</a>"
   ]
  },
  {
   "cell_type": "markdown",
   "id": "fc3fa746",
   "metadata": {},
   "source": [
    "## Import các thư viện cần thiết"
   ]
  },
  {
   "cell_type": "code",
   "execution_count": 1,
   "id": "9913958c",
   "metadata": {},
   "outputs": [],
   "source": [
    "import pandas as pd\n",
    "import numpy as np\n",
    "import matplotlib.pyplot as plt\n",
    "import seaborn as sns\n",
    "%matplotlib inline"
   ]
  },
  {
   "cell_type": "markdown",
   "id": "eb6a6c23",
   "metadata": {},
   "source": [
    "## Thu thập dữ liệu"
   ]
  },
  {
   "cell_type": "markdown",
   "id": "73e70466",
   "metadata": {},
   "source": [
    "- Nhóm em thu thập dữ liệu về **chuyển nhượng cầu thủ của các đội bóng ở 5 giải vô địch bóng đá nam hàng đầu của Châu Âu từ cuồi mùa giải năm 2014 trở về sau**. Dữ liệu lấy từ trang `Kaggle`, file dữ liệu là 'Transfer_data.csv', gốc file dữ liệu là <a href='https://www.kaggle.com/ogrofratesi/football-data?select=Transfer_data.csv&fbclid=IwAR1RxKLlrIlNG9DkyC6DjadHB4zaXjDxSaNkRS_O9c2UR1dCrp-_4_mmvq8'>ở đây</a>\n",
    "- Dữ liệu này là dữ liệu dạng public nên được cho phép người khác có thể lấy và sử dụng. License của dữ liệu là `CCO: Public Domain`."
   ]
  },
  {
   "cell_type": "markdown",
   "id": "bffd74c7",
   "metadata": {},
   "source": [
    "---"
   ]
  },
  {
   "cell_type": "markdown",
   "id": "eb3d62c7",
   "metadata": {},
   "source": [
    "## Khám phá dữ liệu"
   ]
  },
  {
   "cell_type": "markdown",
   "id": "80ea49d4",
   "metadata": {},
   "source": [
    "### Đọc dữ liệu từ file csv vào dataframe"
   ]
  },
  {
   "cell_type": "code",
   "execution_count": 2,
   "id": "c80ea9e3",
   "metadata": {},
   "outputs": [
    {
     "data": {
      "text/html": [
       "<div>\n",
       "<style scoped>\n",
       "    .dataframe tbody tr th:only-of-type {\n",
       "        vertical-align: middle;\n",
       "    }\n",
       "\n",
       "    .dataframe tbody tr th {\n",
       "        vertical-align: top;\n",
       "    }\n",
       "\n",
       "    .dataframe thead th {\n",
       "        text-align: right;\n",
       "    }\n",
       "</style>\n",
       "<table border=\"1\" class=\"dataframe\">\n",
       "  <thead>\n",
       "    <tr style=\"text-align: right;\">\n",
       "      <th></th>\n",
       "      <th>Unnamed: 0</th>\n",
       "      <th>Name</th>\n",
       "      <th>Position</th>\n",
       "      <th>Age</th>\n",
       "      <th>Team_from</th>\n",
       "      <th>League_from</th>\n",
       "      <th>Team_to</th>\n",
       "      <th>League_to</th>\n",
       "      <th>Season</th>\n",
       "      <th>Market_value</th>\n",
       "      <th>Transfer</th>\n",
       "    </tr>\n",
       "  </thead>\n",
       "  <tbody>\n",
       "    <tr>\n",
       "      <th>0</th>\n",
       "      <td>3467</td>\n",
       "      <td>Luis SuÃ¡rez</td>\n",
       "      <td>Centre-Forward</td>\n",
       "      <td>27</td>\n",
       "      <td>Liverpool</td>\n",
       "      <td>EPL</td>\n",
       "      <td>Barcelona</td>\n",
       "      <td>La_liga</td>\n",
       "      <td>2014</td>\n",
       "      <td>52.0</td>\n",
       "      <td>81.72</td>\n",
       "    </tr>\n",
       "    <tr>\n",
       "      <th>1</th>\n",
       "      <td>3468</td>\n",
       "      <td>James RodrÃ­guez</td>\n",
       "      <td>Attacking Midfield</td>\n",
       "      <td>23</td>\n",
       "      <td>Monaco</td>\n",
       "      <td>Ligue_1</td>\n",
       "      <td>Real Madrid</td>\n",
       "      <td>La_liga</td>\n",
       "      <td>2014</td>\n",
       "      <td>60.0</td>\n",
       "      <td>75.00</td>\n",
       "    </tr>\n",
       "    <tr>\n",
       "      <th>2</th>\n",
       "      <td>3469</td>\n",
       "      <td>Ãngel Di MarÃ­a</td>\n",
       "      <td>Right Winger</td>\n",
       "      <td>26</td>\n",
       "      <td>Real Madrid</td>\n",
       "      <td>La_liga</td>\n",
       "      <td>Manchester United</td>\n",
       "      <td>EPL</td>\n",
       "      <td>2014</td>\n",
       "      <td>50.0</td>\n",
       "      <td>75.00</td>\n",
       "    </tr>\n",
       "    <tr>\n",
       "      <th>3</th>\n",
       "      <td>3470</td>\n",
       "      <td>David Luiz</td>\n",
       "      <td>Centre-Back</td>\n",
       "      <td>27</td>\n",
       "      <td>Chelsea</td>\n",
       "      <td>EPL</td>\n",
       "      <td>Paris Saint Germain</td>\n",
       "      <td>Ligue_1</td>\n",
       "      <td>2014</td>\n",
       "      <td>26.0</td>\n",
       "      <td>49.50</td>\n",
       "    </tr>\n",
       "    <tr>\n",
       "      <th>4</th>\n",
       "      <td>3471</td>\n",
       "      <td>Alexis SÃ¡nchez</td>\n",
       "      <td>Left Winger</td>\n",
       "      <td>25</td>\n",
       "      <td>Barcelona</td>\n",
       "      <td>La_liga</td>\n",
       "      <td>Arsenal</td>\n",
       "      <td>EPL</td>\n",
       "      <td>2014</td>\n",
       "      <td>30.0</td>\n",
       "      <td>42.50</td>\n",
       "    </tr>\n",
       "  </tbody>\n",
       "</table>\n",
       "</div>"
      ],
      "text/plain": [
       "   Unnamed: 0              Name            Position  Age    Team_from  \\\n",
       "0        3467      Luis SuÃ¡rez      Centre-Forward   27    Liverpool   \n",
       "1        3468  James RodrÃ­guez  Attacking Midfield   23       Monaco   \n",
       "2        3469  Ãngel Di MarÃ­a        Right Winger   26  Real Madrid   \n",
       "3        3470        David Luiz         Centre-Back   27      Chelsea   \n",
       "4        3471   Alexis SÃ¡nchez         Left Winger   25    Barcelona   \n",
       "\n",
       "  League_from              Team_to League_to  Season  Market_value  Transfer  \n",
       "0         EPL            Barcelona   La_liga    2014          52.0     81.72  \n",
       "1     Ligue_1          Real Madrid   La_liga    2014          60.0     75.00  \n",
       "2     La_liga    Manchester United       EPL    2014          50.0     75.00  \n",
       "3         EPL  Paris Saint Germain   Ligue_1    2014          26.0     49.50  \n",
       "4     La_liga              Arsenal       EPL    2014          30.0     42.50  "
      ]
     },
     "execution_count": 2,
     "metadata": {},
     "output_type": "execute_result"
    }
   ],
   "source": [
    "transfer_df = pd.read_csv('./data/Transfer_data.csv', encoding='utf-8')\n",
    "transfer_df.head()"
   ]
  },
  {
   "cell_type": "markdown",
   "id": "4f7a1432",
   "metadata": {},
   "source": [
    "### Dữ liệu gồm bao nhiêu dòng và cột ?"
   ]
  },
  {
   "cell_type": "code",
   "execution_count": 3,
   "id": "84b07ed1",
   "metadata": {},
   "outputs": [
    {
     "name": "stdout",
     "output_type": "stream",
     "text": [
      "Number of rows: 934\n",
      "Number of columns: 11\n"
     ]
    }
   ],
   "source": [
    "num_rows, num_cols = transfer_df.shape\n",
    "print('Number of rows: {}\\nNumber of columns: {}'.format(num_rows, num_cols))"
   ]
  },
  {
   "cell_type": "markdown",
   "id": "ca05bbcd",
   "metadata": {},
   "source": [
    "### Mỗi dòng có ý nghĩa gì? Có vấn đề các dòng có ý nghĩa khác nhau không?"
   ]
  },
  {
   "cell_type": "markdown",
   "id": "f64407eb",
   "metadata": {},
   "source": [
    "Theo mô tả và quan sát sơ bộ qua tập dữ liệu thì mỗi dòng cho biết thông tin chuyển nhượng của một cầu thủ. Không có dòng nào có dấu hiệu khác nhau so với cá dòng còn lại "
   ]
  },
  {
   "cell_type": "markdown",
   "id": "0c3ddd2d",
   "metadata": {},
   "source": [
    "### Dữ liệu các dòng có bị lặp không ?"
   ]
  },
  {
   "cell_type": "code",
   "execution_count": 4,
   "id": "2e5182e1",
   "metadata": {},
   "outputs": [
    {
     "data": {
      "text/plain": [
       "False"
      ]
     },
     "execution_count": 4,
     "metadata": {},
     "output_type": "execute_result"
    }
   ],
   "source": [
    "is_duplicated_row = False if len(transfer_df.drop_duplicates()) == transfer_df.shape[0] else True\n",
    "is_duplicated_row"
   ]
  },
  {
   "cell_type": "markdown",
   "id": "e1fbb61d",
   "metadata": {},
   "source": [
    "### Mỗi cột có ý nghĩa gì ?"
   ]
  },
  {
   "cell_type": "markdown",
   "id": "f4e4db9a",
   "metadata": {},
   "source": [
    "Dưới đây là phần mô tả của các cột dữ liệu trong file `Transfer_data.csv` trên Kaggle:\n",
    "- **Unnamed: 0**: Không xác định\n",
    "- **Name**: Tên cầu thủ chuyển nhượng\n",
    "- **Position**: Vị trí thi đấu của cầu thủ\n",
    "- **Age**: Tuổi cầu thủ\n",
    "- **Team_from**: Tên câu lạc bộ đội bóng mà cầu thủ đó thi đấu trước khi chuyển nhượng\n",
    "- **League_from**: Tên giải đấu của câu lạc bộ cầu thủ đó thi đấu trước khi chuyển nhượng\n",
    "- **Team_to**: Tên câu lạc bộ đội bóng mà cầu thủ đó chuyển nhượng đến\n",
    "- **League_to**: Tên giải đấu của câu lạc bộ cầu thủ đó chuyển nhượng đến\n",
    "- **Season**: Mùa giải chuyển nhượng\n",
    "- **Market_value**: Giá trị của cầu thủ trên thị trường chuyển nhượng (tính theo đơn vị triệu euro)\n",
    "- **Transfer**: Giá trị chuyển nhượng thực tế mà câu lạc bộ mới phải trả để sở hữu cầu thủ đó (tính theo đơn vị triệu euro)"
   ]
  },
  {
   "cell_type": "markdown",
   "id": "d0ce5a1d",
   "metadata": {},
   "source": [
    "### Mỗi cột hiện đang có kiểu dữ liệu gì? Có cột nào có kiểu dữ liệu chưa phù hợp để có thể xử lý tiếp không?"
   ]
  },
  {
   "cell_type": "markdown",
   "id": "7bea7565",
   "metadata": {},
   "source": [
    "Lấy `dtype` là kiểu dữ liệu của mỗi cột trong dữ liệu và lưu kết quả vào series col_dtypes, series này có index là tên các cột "
   ]
  },
  {
   "cell_type": "code",
   "execution_count": 5,
   "id": "2ae4e8e4",
   "metadata": {},
   "outputs": [
    {
     "data": {
      "text/plain": [
       "Unnamed: 0        int64\n",
       "Name             object\n",
       "Position         object\n",
       "Age               int64\n",
       "Team_from        object\n",
       "League_from      object\n",
       "Team_to          object\n",
       "League_to        object\n",
       "Season            int64\n",
       "Market_value    float64\n",
       "Transfer        float64\n",
       "dtype: object"
      ]
     },
     "execution_count": 5,
     "metadata": {},
     "output_type": "execute_result"
    }
   ],
   "source": [
    "col_dtypes = pd.Series(transfer_df.dtypes, transfer_df.columns)\n",
    "col_dtypes"
   ]
  },
  {
   "cell_type": "markdown",
   "id": "026d769b",
   "metadata": {},
   "source": [
    "Ta cần kiểm tra các cột có kiểu dữ liệu là `object` vì kiểu dữ liệu này có thể bao gồm nhiều kiểu dữ liệu khác nhau trong nó.<br>\n",
    "Viết 1 hàm có đầu vào là 1 cột (series) có dtype là `objject` và trả về kiểu dữ liệu thật sự của cột dữ liệu đó"
   ]
  },
  {
   "cell_type": "code",
   "execution_count": 6,
   "id": "3272b51a",
   "metadata": {},
   "outputs": [],
   "source": [
    "def open_dtype_object(s):\n",
    "    dtypes = set()\n",
    "    s.apply(lambda x: dtypes.add(type(x)))\n",
    "    return dtypes"
   ]
  },
  {
   "cell_type": "code",
   "execution_count": 7,
   "id": "f560ef2d",
   "metadata": {},
   "outputs": [
    {
     "name": "stdout",
     "output_type": "stream",
     "text": [
      "Name --> {<class 'str'>}\n",
      "Position --> {<class 'str'>}\n",
      "Team_from --> {<class 'str'>}\n",
      "League_from --> {<class 'str'>}\n",
      "Team_to --> {<class 'str'>}\n",
      "League_to --> {<class 'str'>}\n"
     ]
    }
   ],
   "source": [
    "# Kiêm tra kết quả của từng cột có dtype là object\n",
    "col_names = ['Name', 'Position', 'Team_from', 'League_from', 'Team_to', 'League_to']\n",
    "for col in col_names:\n",
    "    print(f'{col} --> {open_dtype_object(transfer_df[col])}')"
   ]
  },
  {
   "cell_type": "markdown",
   "id": "ac9c5a95",
   "metadata": {},
   "source": [
    "Ta có thể thấy kiểu dữ liệu của các cột trên đều là `str` nên hợp lí  "
   ]
  },
  {
   "cell_type": "markdown",
   "id": "131f9f14",
   "metadata": {},
   "source": [
    "**Các vấn đề cần tiền xử lý:**\n",
    "- Xóa cột `Unnamed: 0` vì cột này không có ý nghĩa gì để khám phá"
   ]
  },
  {
   "cell_type": "markdown",
   "id": "6174c078",
   "metadata": {},
   "source": [
    "## Tiền xử lý dữ liệu"
   ]
  },
  {
   "cell_type": "markdown",
   "id": "27bacf46",
   "metadata": {},
   "source": [
    "### Xóa cột `Unnamed: 0` trong dữ liệu"
   ]
  },
  {
   "cell_type": "code",
   "execution_count": 8,
   "id": "6a9eb9d5",
   "metadata": {},
   "outputs": [],
   "source": [
    "transfer_df.drop(columns=['Unnamed: 0'], inplace=True)"
   ]
  },
  {
   "cell_type": "markdown",
   "id": "505434b8",
   "metadata": {},
   "source": [
    "## Khám phá dữ liệu (tiếp tục)"
   ]
  },
  {
   "cell_type": "markdown",
   "id": "e79da337",
   "metadata": {},
   "source": [
    "### Với mỗi cột có kiểu dữ liệu dạng số (numerical), các giá trị được phân bố như thế nào ?"
   ]
  },
  {
   "cell_type": "markdown",
   "id": "d3262fa4",
   "metadata": {},
   "source": [
    "Ta có các cột có kiểu dữ liệu numeric là: `Age`, `Season`, `Market_value`, `Transfer`<br>\n",
    "<br>Với mỗi cột numeric em sẽ tính tỉ lệ % giá trị thiếu (từ 0 đến 100), min, max. Sau đó em lưu kết quả vào dataframe `nume_col_profiles_df`. Dataframe này có 3 dòng là \"missing_ratio\", \"min\", \"max\"; và có 4 cột tương ứng với 4 cột ở trên "
   ]
  },
  {
   "cell_type": "code",
   "execution_count": 9,
   "id": "d982e739",
   "metadata": {},
   "outputs": [
    {
     "data": {
      "text/html": [
       "<div>\n",
       "<style scoped>\n",
       "    .dataframe tbody tr th:only-of-type {\n",
       "        vertical-align: middle;\n",
       "    }\n",
       "\n",
       "    .dataframe tbody tr th {\n",
       "        vertical-align: top;\n",
       "    }\n",
       "\n",
       "    .dataframe thead th {\n",
       "        text-align: right;\n",
       "    }\n",
       "</style>\n",
       "<table border=\"1\" class=\"dataframe\">\n",
       "  <thead>\n",
       "    <tr style=\"text-align: right;\">\n",
       "      <th></th>\n",
       "      <th>Age</th>\n",
       "      <th>Season</th>\n",
       "      <th>Market_value</th>\n",
       "      <th>Transfer</th>\n",
       "    </tr>\n",
       "  </thead>\n",
       "  <tbody>\n",
       "    <tr>\n",
       "      <th>missing_ratio</th>\n",
       "      <td>0.0</td>\n",
       "      <td>0.0</td>\n",
       "      <td>0.535332</td>\n",
       "      <td>0.0</td>\n",
       "    </tr>\n",
       "    <tr>\n",
       "      <th>min</th>\n",
       "      <td>16.0</td>\n",
       "      <td>2014.0</td>\n",
       "      <td>0.150000</td>\n",
       "      <td>4.0</td>\n",
       "    </tr>\n",
       "    <tr>\n",
       "      <th>max</th>\n",
       "      <td>33.0</td>\n",
       "      <td>2018.0</td>\n",
       "      <td>120.000000</td>\n",
       "      <td>222.0</td>\n",
       "    </tr>\n",
       "  </tbody>\n",
       "</table>\n",
       "</div>"
      ],
      "text/plain": [
       "                Age  Season  Market_value  Transfer\n",
       "missing_ratio   0.0     0.0      0.535332       0.0\n",
       "min            16.0  2014.0      0.150000       4.0\n",
       "max            33.0  2018.0    120.000000     222.0"
      ]
     },
     "execution_count": 9,
     "metadata": {},
     "output_type": "execute_result"
    }
   ],
   "source": [
    "def missing_ratio(df):\n",
    "    return df.isna().mean()*100\n",
    "\n",
    "nume_cols = ['Age', 'Season', 'Market_value', 'Transfer']\n",
    "nume_col_profiles_df = transfer_df[nume_cols].agg([missing_ratio, min, max])\n",
    "nume_col_profiles_df"
   ]
  },
  {
   "cell_type": "markdown",
   "id": "6063ab69",
   "metadata": {},
   "source": [
    "Các cột trên có min và max có lẽ là không có gì bất thường"
   ]
  },
  {
   "cell_type": "markdown",
   "id": "a7475010",
   "metadata": {},
   "source": [
    "### Với mỗi cột có kiểu dữ liệu dạng phân loại (categorical), các giá trị được phân bố như thế nào ?\n"
   ]
  },
  {
   "cell_type": "markdown",
   "id": "7612b473",
   "metadata": {},
   "source": [
    "Dataframe đang xử lý có các cột dạng categorical là: `Name`, `Position`, `Team_from`, `League_from`, `Team_to`, `League_to`<br>\n",
    "<br>Với mỗi cột categorical, em sẽ tính tỉ lệ % giá trị thiếu (từ 0 đến 100), số lượng giá trị khác nhau (không xét giá trị thiếu), list các giá trị khác nhau (lấy 5 mẫu) (không xét giá trị thiếu). Sau đó em lưu kết quả vào dataframe `cate_col_profiles_df`. Dataframe này có 3 dòng là \"missing_ratio\", \"num_diff_vals\", \"diff_vals\"; và gồm 6 cột tương ứng ở trên"
   ]
  },
  {
   "cell_type": "code",
   "execution_count": 10,
   "id": "c6089fa6",
   "metadata": {},
   "outputs": [
    {
     "data": {
      "text/html": [
       "<div>\n",
       "<style scoped>\n",
       "    .dataframe tbody tr th:only-of-type {\n",
       "        vertical-align: middle;\n",
       "    }\n",
       "\n",
       "    .dataframe tbody tr th {\n",
       "        vertical-align: top;\n",
       "    }\n",
       "\n",
       "    .dataframe thead th {\n",
       "        text-align: right;\n",
       "    }\n",
       "</style>\n",
       "<table border=\"1\" class=\"dataframe\">\n",
       "  <thead>\n",
       "    <tr style=\"text-align: right;\">\n",
       "      <th></th>\n",
       "      <th>Name</th>\n",
       "      <th>Position</th>\n",
       "      <th>Team_from</th>\n",
       "      <th>League_from</th>\n",
       "      <th>Team_to</th>\n",
       "      <th>League_to</th>\n",
       "    </tr>\n",
       "  </thead>\n",
       "  <tbody>\n",
       "    <tr>\n",
       "      <th>missing_ratio</th>\n",
       "      <td>0.0</td>\n",
       "      <td>0.0</td>\n",
       "      <td>0.0</td>\n",
       "      <td>0.0</td>\n",
       "      <td>0.0</td>\n",
       "      <td>0.0</td>\n",
       "    </tr>\n",
       "    <tr>\n",
       "      <th>num_diff_vals</th>\n",
       "      <td>789</td>\n",
       "      <td>13</td>\n",
       "      <td>222</td>\n",
       "      <td>37</td>\n",
       "      <td>91</td>\n",
       "      <td>5</td>\n",
       "    </tr>\n",
       "    <tr>\n",
       "      <th>diff_vals</th>\n",
       "      <td>[Luis SuÃ¡rez, James RodrÃ­guez, Ãngel Di Mar...</td>\n",
       "      <td>[Centre-Forward, Attacking Midfield, Right Win...</td>\n",
       "      <td>[Liverpool, Monaco, Real Madrid, Chelsea, Barc...</td>\n",
       "      <td>[EPL, Ligue_1, La_liga, Serie_A, Liga NOS]</td>\n",
       "      <td>[Barcelona, Real Madrid, Manchester United, Pa...</td>\n",
       "      <td>[La_liga, EPL, Ligue_1, Bundesliga, Serie_A]</td>\n",
       "    </tr>\n",
       "  </tbody>\n",
       "</table>\n",
       "</div>"
      ],
      "text/plain": [
       "                                                            Name  \\\n",
       "missing_ratio                                                0.0   \n",
       "num_diff_vals                                                789   \n",
       "diff_vals      [Luis SuÃ¡rez, James RodrÃ­guez, Ãngel Di Mar...   \n",
       "\n",
       "                                                        Position  \\\n",
       "missing_ratio                                                0.0   \n",
       "num_diff_vals                                                 13   \n",
       "diff_vals      [Centre-Forward, Attacking Midfield, Right Win...   \n",
       "\n",
       "                                                       Team_from  \\\n",
       "missing_ratio                                                0.0   \n",
       "num_diff_vals                                                222   \n",
       "diff_vals      [Liverpool, Monaco, Real Madrid, Chelsea, Barc...   \n",
       "\n",
       "                                              League_from  \\\n",
       "missing_ratio                                         0.0   \n",
       "num_diff_vals                                          37   \n",
       "diff_vals      [EPL, Ligue_1, La_liga, Serie_A, Liga NOS]   \n",
       "\n",
       "                                                         Team_to  \\\n",
       "missing_ratio                                                0.0   \n",
       "num_diff_vals                                                 91   \n",
       "diff_vals      [Barcelona, Real Madrid, Manchester United, Pa...   \n",
       "\n",
       "                                                  League_to  \n",
       "missing_ratio                                           0.0  \n",
       "num_diff_vals                                             5  \n",
       "diff_vals      [La_liga, EPL, Ligue_1, Bundesliga, Serie_A]  "
      ]
     },
     "execution_count": 10,
     "metadata": {},
     "output_type": "execute_result"
    }
   ],
   "source": [
    "def missing_ratio(df):\n",
    "    return df.isna().mean()*100\n",
    "def num_diff_vals(df):\n",
    "    return len(df.dropna().unique())\n",
    "def diff_vals(df):\n",
    "    return df.dropna().unique()[:5]\n",
    "\n",
    "cate_cols = ['Name', 'Position', 'Team_from', 'League_from', 'Team_to', 'League_to']\n",
    "cate_col_profiles_df = transfer_df[cate_cols].agg([missing_ratio, num_diff_vals, diff_vals])\n",
    "cate_col_profiles_df"
   ]
  },
  {
   "cell_type": "markdown",
   "id": "3ddcfdfd",
   "metadata": {},
   "source": [
    "Nhìn chung không có gì bất thường ở các cột dữ liệu này"
   ]
  },
  {
   "cell_type": "markdown",
   "id": "94272cde",
   "metadata": {},
   "source": [
    "---"
   ]
  },
  {
   "cell_type": "markdown",
   "id": "4a4f77d3",
   "metadata": {},
   "source": [
    "## Đưa ra các câu hỏi có ý nghĩa cần trả lời"
   ]
  },
  {
   "cell_type": "markdown",
   "id": "1a2faf32",
   "metadata": {},
   "source": [
    "Sau khi khám phá và tiền xử lý dữ liệu để hiểu hơn về ý nghĩa tập dữ liệu, tụi em sẽ đưa ra các câu hỏi có thể trả lời được bằng dữ liệu:\n",
    "- Mức phí chuyển nhượng cầu thủ của các giải đấu có sự chênh lệch nhiều so với trên thị trường như thế nào trong 3 mùa giải gần đây ?<br>\n",
    "--> Trả lời câu hỏi này cho mình có thể biết được sự cạnh tranh giữa các câu lạc bộ trong việc chiêu mộ cầu thủ đã làm tăng giá trị chuyển nhượng so với thực tế của các cầu thủ lên như thế nào\n",
    "- Các đội bóng nào chuyển nhượng cầu thủ dưới 23 tuổi nhiều nhất trong mỗi mùa giải ? <br>\n",
    "--> Trả lời câu hỏi này giúp ta biết được các đội bóng là \"cái nôi\" sản xuất tài năng trẻ cho thế giới, để từ đó các cầu thủ trẻ chọn cho mình được các bến đỗ thích hợp phát triển bản thân \n",
    "- Có phải tuổi nghề của môn bóng đá này là 30 hay không ? <br>\n",
    "--> Trả lời câu hỏi này giúp ta biết được liệu có xứng đáng để đầu tư cho các cầu thủ sau tuổi 30 hay không \n",
    "- Độ hot của các cầu thủ chuyển nhượng theo từng vị trí tiền đạo, tiền vệ, hậu vệ và thủ môn theo từng mùa giải ? <br>\n",
    "--> Trả lời câu hỏi này giúp ta biết được vị trí nào thường xuyên được săn lùng trên thị trường chuyển nhượng để từ đó đưa ra mức độ đầu tư của ta trên thị trường chuyển nhượng\n",
    "- Mức giá trung bình của từng loại vị trí trên thị trường chuyển nhượng như thế nào ? <br>\n",
    "--> Trả lời câu hỏi này giúp ta biết được độ biến thiên giá trị của các cầu thủ trên thị trường chuyển nhượng để nhìn ra bước phát triển cầu thủ, từ đó đưa ra những nhận định đúng cho cầu thủ sau này"
   ]
  },
  {
   "cell_type": "markdown",
   "id": "ae965ae2",
   "metadata": {},
   "source": [
    "---"
   ]
  },
  {
   "cell_type": "markdown",
   "id": "229de953",
   "metadata": {},
   "source": [
    "## Phân tích dữ liệu để trả lời các câu hỏi"
   ]
  },
  {
   "cell_type": "markdown",
   "id": "4ac1a64b",
   "metadata": {},
   "source": [
    "### Mức phí chuyển nhượng cầu thủ của các giải đấu có sự chênh lệch nhiều so với trên thị trường như thế nào trong 3 mùa giải gần đây ?"
   ]
  },
  {
   "cell_type": "markdown",
   "id": "13bc0281",
   "metadata": {},
   "source": [
    "Để trả lời cho câu hỏi này, ta cần thực hiện các bước sau:\n",
    "- Bước 1: Tạo dataframe `three_season_df` để lưu lại các dòng dữ liệu có giá trị cột `Season` thuộc của 3 năm gần đây nhất\n",
    "- Bước 2: Thêm cột `Imbalance_value` vào dataframe trên để thể hiện sự chênh lệch về giá trị chuyển nhượng so với giá trị trên thị trường\n",
    "- Bước 3: Tạo dataframe `league_balance_df` chứa tổng giá trị chênh lệch của từng giải đấu trong mỗi năm, trong đó cột thể hiện các mùa giải, index là tên các giải đấu\n",
    "- Bước 4: Trực quan hóa kết quả để đưa ra nhận xét  "
   ]
  },
  {
   "cell_type": "markdown",
   "id": "7765476b",
   "metadata": {},
   "source": [
    "Code bước 1"
   ]
  },
  {
   "cell_type": "code",
   "execution_count": 11,
   "id": "71fa9f18",
   "metadata": {},
   "outputs": [
    {
     "data": {
      "text/html": [
       "<div>\n",
       "<style scoped>\n",
       "    .dataframe tbody tr th:only-of-type {\n",
       "        vertical-align: middle;\n",
       "    }\n",
       "\n",
       "    .dataframe tbody tr th {\n",
       "        vertical-align: top;\n",
       "    }\n",
       "\n",
       "    .dataframe thead th {\n",
       "        text-align: right;\n",
       "    }\n",
       "</style>\n",
       "<table border=\"1\" class=\"dataframe\">\n",
       "  <thead>\n",
       "    <tr style=\"text-align: right;\">\n",
       "      <th></th>\n",
       "      <th>Name</th>\n",
       "      <th>Position</th>\n",
       "      <th>Age</th>\n",
       "      <th>Team_from</th>\n",
       "      <th>League_from</th>\n",
       "      <th>Team_to</th>\n",
       "      <th>League_to</th>\n",
       "      <th>Season</th>\n",
       "      <th>Market_value</th>\n",
       "      <th>Transfer</th>\n",
       "    </tr>\n",
       "  </thead>\n",
       "  <tbody>\n",
       "    <tr>\n",
       "      <th>354</th>\n",
       "      <td>Paul Pogba</td>\n",
       "      <td>Central Midfield</td>\n",
       "      <td>23</td>\n",
       "      <td>Juventus</td>\n",
       "      <td>Serie_A</td>\n",
       "      <td>Manchester United</td>\n",
       "      <td>EPL</td>\n",
       "      <td>2016</td>\n",
       "      <td>70.0</td>\n",
       "      <td>105.0</td>\n",
       "    </tr>\n",
       "    <tr>\n",
       "      <th>355</th>\n",
       "      <td>Gonzalo HiguaÃ­n</td>\n",
       "      <td>Centre-Forward</td>\n",
       "      <td>28</td>\n",
       "      <td>Napoli</td>\n",
       "      <td>Serie_A</td>\n",
       "      <td>Juventus</td>\n",
       "      <td>Serie_A</td>\n",
       "      <td>2016</td>\n",
       "      <td>65.0</td>\n",
       "      <td>90.0</td>\n",
       "    </tr>\n",
       "    <tr>\n",
       "      <th>356</th>\n",
       "      <td>John Stones</td>\n",
       "      <td>Centre-Back</td>\n",
       "      <td>22</td>\n",
       "      <td>Everton</td>\n",
       "      <td>EPL</td>\n",
       "      <td>Manchester City</td>\n",
       "      <td>EPL</td>\n",
       "      <td>2016</td>\n",
       "      <td>28.0</td>\n",
       "      <td>55.6</td>\n",
       "    </tr>\n",
       "    <tr>\n",
       "      <th>357</th>\n",
       "      <td>Leroy SanÃ©</td>\n",
       "      <td>Left Winger</td>\n",
       "      <td>20</td>\n",
       "      <td>Schalke 04</td>\n",
       "      <td>Bundesliga</td>\n",
       "      <td>Manchester City</td>\n",
       "      <td>EPL</td>\n",
       "      <td>2016</td>\n",
       "      <td>30.0</td>\n",
       "      <td>50.5</td>\n",
       "    </tr>\n",
       "    <tr>\n",
       "      <th>358</th>\n",
       "      <td>Granit Xhaka</td>\n",
       "      <td>Defensive Midfield</td>\n",
       "      <td>23</td>\n",
       "      <td>Borussia M.Gladbach</td>\n",
       "      <td>Bundesliga</td>\n",
       "      <td>Arsenal</td>\n",
       "      <td>EPL</td>\n",
       "      <td>2016</td>\n",
       "      <td>25.0</td>\n",
       "      <td>45.0</td>\n",
       "    </tr>\n",
       "    <tr>\n",
       "      <th>...</th>\n",
       "      <td>...</td>\n",
       "      <td>...</td>\n",
       "      <td>...</td>\n",
       "      <td>...</td>\n",
       "      <td>...</td>\n",
       "      <td>...</td>\n",
       "      <td>...</td>\n",
       "      <td>...</td>\n",
       "      <td>...</td>\n",
       "      <td>...</td>\n",
       "    </tr>\n",
       "    <tr>\n",
       "      <th>929</th>\n",
       "      <td>Giangiacomo Magnani</td>\n",
       "      <td>Centre-Back</td>\n",
       "      <td>22</td>\n",
       "      <td>Juventus</td>\n",
       "      <td>Serie_A</td>\n",
       "      <td>Sassuolo</td>\n",
       "      <td>Serie_A</td>\n",
       "      <td>2018</td>\n",
       "      <td>0.6</td>\n",
       "      <td>5.0</td>\n",
       "    </tr>\n",
       "    <tr>\n",
       "      <th>930</th>\n",
       "      <td>Giangiacomo Magnani</td>\n",
       "      <td>Centre-Back</td>\n",
       "      <td>22</td>\n",
       "      <td>Perugia</td>\n",
       "      <td>Serie B</td>\n",
       "      <td>Juventus</td>\n",
       "      <td>Serie_A</td>\n",
       "      <td>2018</td>\n",
       "      <td>0.6</td>\n",
       "      <td>5.0</td>\n",
       "    </tr>\n",
       "    <tr>\n",
       "      <th>931</th>\n",
       "      <td>Evan N'Dicka</td>\n",
       "      <td>Centre-Back</td>\n",
       "      <td>18</td>\n",
       "      <td>AJ Auxerre</td>\n",
       "      <td>Ligue 2</td>\n",
       "      <td>Eintracht Frankfurt</td>\n",
       "      <td>Bundesliga</td>\n",
       "      <td>2018</td>\n",
       "      <td>0.4</td>\n",
       "      <td>5.0</td>\n",
       "    </tr>\n",
       "    <tr>\n",
       "      <th>932</th>\n",
       "      <td>Jasmin Kurtic</td>\n",
       "      <td>Attacking Midfield</td>\n",
       "      <td>29</td>\n",
       "      <td>Atalanta</td>\n",
       "      <td>Serie_A</td>\n",
       "      <td>SPAL 2013</td>\n",
       "      <td>Serie_A</td>\n",
       "      <td>2018</td>\n",
       "      <td>5.0</td>\n",
       "      <td>4.8</td>\n",
       "    </tr>\n",
       "    <tr>\n",
       "      <th>933</th>\n",
       "      <td>Yuya Osako</td>\n",
       "      <td>Second Striker</td>\n",
       "      <td>28</td>\n",
       "      <td>FC Cologno</td>\n",
       "      <td>2.Bundesliga</td>\n",
       "      <td>Werder Bremen</td>\n",
       "      <td>Bundesliga</td>\n",
       "      <td>2018</td>\n",
       "      <td>4.5</td>\n",
       "      <td>4.5</td>\n",
       "    </tr>\n",
       "  </tbody>\n",
       "</table>\n",
       "<p>580 rows × 10 columns</p>\n",
       "</div>"
      ],
      "text/plain": [
       "                    Name            Position  Age            Team_from  \\\n",
       "354           Paul Pogba    Central Midfield   23             Juventus   \n",
       "355     Gonzalo HiguaÃ­n      Centre-Forward   28               Napoli   \n",
       "356          John Stones         Centre-Back   22              Everton   \n",
       "357          Leroy SanÃ©         Left Winger   20           Schalke 04   \n",
       "358         Granit Xhaka  Defensive Midfield   23  Borussia M.Gladbach   \n",
       "..                   ...                 ...  ...                  ...   \n",
       "929  Giangiacomo Magnani         Centre-Back   22             Juventus   \n",
       "930  Giangiacomo Magnani         Centre-Back   22              Perugia   \n",
       "931         Evan N'Dicka         Centre-Back   18           AJ Auxerre   \n",
       "932        Jasmin Kurtic  Attacking Midfield   29             Atalanta   \n",
       "933           Yuya Osako      Second Striker   28           FC Cologno   \n",
       "\n",
       "      League_from              Team_to   League_to  Season  Market_value  \\\n",
       "354       Serie_A    Manchester United         EPL    2016          70.0   \n",
       "355       Serie_A             Juventus     Serie_A    2016          65.0   \n",
       "356           EPL      Manchester City         EPL    2016          28.0   \n",
       "357    Bundesliga      Manchester City         EPL    2016          30.0   \n",
       "358    Bundesliga              Arsenal         EPL    2016          25.0   \n",
       "..            ...                  ...         ...     ...           ...   \n",
       "929       Serie_A             Sassuolo     Serie_A    2018           0.6   \n",
       "930       Serie B             Juventus     Serie_A    2018           0.6   \n",
       "931       Ligue 2  Eintracht Frankfurt  Bundesliga    2018           0.4   \n",
       "932       Serie_A            SPAL 2013     Serie_A    2018           5.0   \n",
       "933  2.Bundesliga        Werder Bremen  Bundesliga    2018           4.5   \n",
       "\n",
       "     Transfer  \n",
       "354     105.0  \n",
       "355      90.0  \n",
       "356      55.6  \n",
       "357      50.5  \n",
       "358      45.0  \n",
       "..        ...  \n",
       "929       5.0  \n",
       "930       5.0  \n",
       "931       5.0  \n",
       "932       4.8  \n",
       "933       4.5  \n",
       "\n",
       "[580 rows x 10 columns]"
      ]
     },
     "execution_count": 11,
     "metadata": {},
     "output_type": "execute_result"
    }
   ],
   "source": [
    "def getThreeCurrentSeason(col):\n",
    "    return sorted(col, reverse=True)[:3]\n",
    "\n",
    "three_season_df = transfer_df[transfer_df['Season'].isin(getThreeCurrentSeason(transfer_df['Season'].unique()))]\n",
    "three_season_df"
   ]
  },
  {
   "cell_type": "markdown",
   "id": "fc46ff69",
   "metadata": {},
   "source": [
    "Code bước 2"
   ]
  },
  {
   "cell_type": "code",
   "execution_count": 12,
   "id": "bd155a5d",
   "metadata": {},
   "outputs": [],
   "source": [
    "transfer_df_copy = three_season_df.copy() #tạo bản copy để không làm thay đôi bản chính\n",
    "transfer_df_copy['Imbalance_value'] = transfer_df_copy['Transfer'] - transfer_df_copy['Market_value']"
   ]
  },
  {
   "cell_type": "markdown",
   "id": "0685803f",
   "metadata": {},
   "source": [
    "Code bước 3"
   ]
  },
  {
   "cell_type": "code",
   "execution_count": 13,
   "id": "6fee7ae3",
   "metadata": {},
   "outputs": [
    {
     "data": {
      "text/html": [
       "<div>\n",
       "<style scoped>\n",
       "    .dataframe tbody tr th:only-of-type {\n",
       "        vertical-align: middle;\n",
       "    }\n",
       "\n",
       "    .dataframe tbody tr th {\n",
       "        vertical-align: top;\n",
       "    }\n",
       "\n",
       "    .dataframe thead th {\n",
       "        text-align: right;\n",
       "    }\n",
       "</style>\n",
       "<table border=\"1\" class=\"dataframe\">\n",
       "  <thead>\n",
       "    <tr style=\"text-align: right;\">\n",
       "      <th></th>\n",
       "      <th>2016</th>\n",
       "      <th>2017</th>\n",
       "      <th>2018</th>\n",
       "    </tr>\n",
       "  </thead>\n",
       "  <tbody>\n",
       "    <tr>\n",
       "      <th>Bundesliga</th>\n",
       "      <td>142.00</td>\n",
       "      <td>130.20</td>\n",
       "      <td>75.55</td>\n",
       "    </tr>\n",
       "    <tr>\n",
       "      <th>EPL</th>\n",
       "      <td>566.10</td>\n",
       "      <td>770.70</td>\n",
       "      <td>223.80</td>\n",
       "    </tr>\n",
       "    <tr>\n",
       "      <th>La_liga</th>\n",
       "      <td>60.65</td>\n",
       "      <td>218.07</td>\n",
       "      <td>55.50</td>\n",
       "    </tr>\n",
       "    <tr>\n",
       "      <th>Ligue_1</th>\n",
       "      <td>59.80</td>\n",
       "      <td>248.05</td>\n",
       "      <td>54.30</td>\n",
       "    </tr>\n",
       "    <tr>\n",
       "      <th>Serie_A</th>\n",
       "      <td>120.95</td>\n",
       "      <td>143.70</td>\n",
       "      <td>94.30</td>\n",
       "    </tr>\n",
       "  </tbody>\n",
       "</table>\n",
       "</div>"
      ],
      "text/plain": [
       "              2016    2017    2018\n",
       "Bundesliga  142.00  130.20   75.55\n",
       "EPL         566.10  770.70  223.80\n",
       "La_liga      60.65  218.07   55.50\n",
       "Ligue_1      59.80  248.05   54.30\n",
       "Serie_A     120.95  143.70   94.30"
      ]
     },
     "execution_count": 13,
     "metadata": {},
     "output_type": "execute_result"
    }
   ],
   "source": [
    "league_balance_df = transfer_df_copy.groupby(['Season', 'League_to'])['Imbalance_value'].agg([sum]).unstack(0)\n",
    "league_balance_df.columns = [2016, 2017, 2018]\n",
    "league_balance_df.index = ['Bundesliga', 'EPL', 'La_liga', 'Ligue_1', 'Serie_A']\n",
    "league_balance_df"
   ]
  },
  {
   "cell_type": "markdown",
   "id": "90e8b62d",
   "metadata": {},
   "source": [
    "Code bước 4"
   ]
  },
  {
   "cell_type": "code",
   "execution_count": 14,
   "id": "d6565475",
   "metadata": {},
   "outputs": [
    {
     "data": {
      "image/png": "[encoded data removed]",
      "text/plain": [
       "<Figure size 720x432 with 1 Axes>"
      ]
     },
     "metadata": {
      "needs_background": "light"
     },
     "output_type": "display_data"
    }
   ],
   "source": [
    "league_balance_df.plot(kind='bar', stacked=False, figsize=(10,6))\n",
    "plt.xticks(rotation=45)\n",
    "plt.show()"
   ]
  },
  {
   "cell_type": "markdown",
   "id": "29b45e28",
   "metadata": {},
   "source": [
    "**Nhận xét:** Qua biểu đồ trên ta thấy sự chênh lệch giữa giá trị thị trường và giá trị chuyển nhượng thực tế ở giải đấu Ngoại hạng Anh (EPL) luôn lớn hơn rất nhiều so với các giải đấu còn lại qua mỗi mùa giải. Điều này đúng với hiện thực khi EPL được gọi là giải đấu hấp dẫn nhất hành tinh nên sự chênh lệch này là chính là sự cạnh tranh của các câu lạc bộ để có được chữ ký của cầu thủ. 4 giải đấu còn lại chỉ có sự chênh lệch ít và hầu như ở mùa giải năm 2017 có sự chênh lệch cao nhất."
   ]
  },
  {
   "cell_type": "markdown",
   "id": "af52479a",
   "metadata": {},
   "source": [
    "### Các đội bóng nào chuyển nhượng cầu thủ dưới 23 tuổi nhiều nhất trong mỗi mùa giải ?"
   ]
  },
  {
   "cell_type": "markdown",
   "id": "e8936f96",
   "metadata": {},
   "source": [
    "Để trả lời câu hỏi trên, cần thực hiện các bước như sau:\n",
    "- Bước 1: Tạo dataframe `under_23_df` chứa thông tin chuyển nhượng của các các thủ dưới 23 tuổi\n",
    "- Bước 2: Tạo dataframe có các giá trị là tên của các câu lạc bộ chuyển nhượng các cầu thủ dưới 23 tuổi nhiều nhất, trong đó index là mùa giải, cột là tên câu lạc bộ"
   ]
  },
  {
   "cell_type": "markdown",
   "id": "a4893182",
   "metadata": {},
   "source": [
    "Code bước 1"
   ]
  },
  {
   "cell_type": "code",
   "execution_count": 15,
   "id": "bbe52e30",
   "metadata": {},
   "outputs": [
    {
     "data": {
      "text/html": [
       "<div>\n",
       "<style scoped>\n",
       "    .dataframe tbody tr th:only-of-type {\n",
       "        vertical-align: middle;\n",
       "    }\n",
       "\n",
       "    .dataframe tbody tr th {\n",
       "        vertical-align: top;\n",
       "    }\n",
       "\n",
       "    .dataframe thead th {\n",
       "        text-align: right;\n",
       "    }\n",
       "</style>\n",
       "<table border=\"1\" class=\"dataframe\">\n",
       "  <thead>\n",
       "    <tr style=\"text-align: right;\">\n",
       "      <th></th>\n",
       "      <th>Name</th>\n",
       "      <th>Position</th>\n",
       "      <th>Age</th>\n",
       "      <th>Team_from</th>\n",
       "      <th>League_from</th>\n",
       "      <th>Team_to</th>\n",
       "      <th>League_to</th>\n",
       "      <th>Season</th>\n",
       "      <th>Market_value</th>\n",
       "      <th>Transfer</th>\n",
       "    </tr>\n",
       "  </thead>\n",
       "  <tbody>\n",
       "    <tr>\n",
       "      <th>6</th>\n",
       "      <td>Luke Shaw</td>\n",
       "      <td>Left-Back</td>\n",
       "      <td>18</td>\n",
       "      <td>Southampton</td>\n",
       "      <td>EPL</td>\n",
       "      <td>Manchester United</td>\n",
       "      <td>EPL</td>\n",
       "      <td>2014</td>\n",
       "      <td>13.0</td>\n",
       "      <td>37.50</td>\n",
       "    </tr>\n",
       "    <tr>\n",
       "      <th>8</th>\n",
       "      <td>Romelu Lukaku</td>\n",
       "      <td>Centre-Forward</td>\n",
       "      <td>21</td>\n",
       "      <td>Chelsea</td>\n",
       "      <td>EPL</td>\n",
       "      <td>Everton</td>\n",
       "      <td>EPL</td>\n",
       "      <td>2014</td>\n",
       "      <td>25.0</td>\n",
       "      <td>35.36</td>\n",
       "    </tr>\n",
       "    <tr>\n",
       "      <th>20</th>\n",
       "      <td>Lazar Markovic</td>\n",
       "      <td>Right Winger</td>\n",
       "      <td>20</td>\n",
       "      <td>Benfica</td>\n",
       "      <td>Liga NOS</td>\n",
       "      <td>Liverpool</td>\n",
       "      <td>EPL</td>\n",
       "      <td>2014</td>\n",
       "      <td>10.0</td>\n",
       "      <td>25.00</td>\n",
       "    </tr>\n",
       "    <tr>\n",
       "      <th>21</th>\n",
       "      <td>Juan Iturbe</td>\n",
       "      <td>Right Winger</td>\n",
       "      <td>21</td>\n",
       "      <td>Verona</td>\n",
       "      <td>Serie_A</td>\n",
       "      <td>Roma</td>\n",
       "      <td>Serie_A</td>\n",
       "      <td>2014</td>\n",
       "      <td>20.0</td>\n",
       "      <td>24.50</td>\n",
       "    </tr>\n",
       "    <tr>\n",
       "      <th>22</th>\n",
       "      <td>Sadio ManÃ©</td>\n",
       "      <td>Left Winger</td>\n",
       "      <td>22</td>\n",
       "      <td>RB Salzburg</td>\n",
       "      <td>Bundesliga</td>\n",
       "      <td>Southampton</td>\n",
       "      <td>EPL</td>\n",
       "      <td>2014</td>\n",
       "      <td>7.5</td>\n",
       "      <td>23.00</td>\n",
       "    </tr>\n",
       "    <tr>\n",
       "      <th>...</th>\n",
       "      <td>...</td>\n",
       "      <td>...</td>\n",
       "      <td>...</td>\n",
       "      <td>...</td>\n",
       "      <td>...</td>\n",
       "      <td>...</td>\n",
       "      <td>...</td>\n",
       "      <td>...</td>\n",
       "      <td>...</td>\n",
       "      <td>...</td>\n",
       "    </tr>\n",
       "    <tr>\n",
       "      <th>927</th>\n",
       "      <td>Marco Carraro</td>\n",
       "      <td>Defensive Midfield</td>\n",
       "      <td>20</td>\n",
       "      <td>Inter</td>\n",
       "      <td>Serie_A</td>\n",
       "      <td>Atalanta</td>\n",
       "      <td>Serie_A</td>\n",
       "      <td>2018</td>\n",
       "      <td>0.8</td>\n",
       "      <td>5.00</td>\n",
       "    </tr>\n",
       "    <tr>\n",
       "      <th>928</th>\n",
       "      <td>Jonathan IkonÃ©</td>\n",
       "      <td>Attacking Midfield</td>\n",
       "      <td>20</td>\n",
       "      <td>Paris Saint Germain</td>\n",
       "      <td>Ligue_1</td>\n",
       "      <td>Lille</td>\n",
       "      <td>Ligue_1</td>\n",
       "      <td>2018</td>\n",
       "      <td>0.7</td>\n",
       "      <td>5.00</td>\n",
       "    </tr>\n",
       "    <tr>\n",
       "      <th>929</th>\n",
       "      <td>Giangiacomo Magnani</td>\n",
       "      <td>Centre-Back</td>\n",
       "      <td>22</td>\n",
       "      <td>Juventus</td>\n",
       "      <td>Serie_A</td>\n",
       "      <td>Sassuolo</td>\n",
       "      <td>Serie_A</td>\n",
       "      <td>2018</td>\n",
       "      <td>0.6</td>\n",
       "      <td>5.00</td>\n",
       "    </tr>\n",
       "    <tr>\n",
       "      <th>930</th>\n",
       "      <td>Giangiacomo Magnani</td>\n",
       "      <td>Centre-Back</td>\n",
       "      <td>22</td>\n",
       "      <td>Perugia</td>\n",
       "      <td>Serie B</td>\n",
       "      <td>Juventus</td>\n",
       "      <td>Serie_A</td>\n",
       "      <td>2018</td>\n",
       "      <td>0.6</td>\n",
       "      <td>5.00</td>\n",
       "    </tr>\n",
       "    <tr>\n",
       "      <th>931</th>\n",
       "      <td>Evan N'Dicka</td>\n",
       "      <td>Centre-Back</td>\n",
       "      <td>18</td>\n",
       "      <td>AJ Auxerre</td>\n",
       "      <td>Ligue 2</td>\n",
       "      <td>Eintracht Frankfurt</td>\n",
       "      <td>Bundesliga</td>\n",
       "      <td>2018</td>\n",
       "      <td>0.4</td>\n",
       "      <td>5.00</td>\n",
       "    </tr>\n",
       "  </tbody>\n",
       "</table>\n",
       "<p>313 rows × 10 columns</p>\n",
       "</div>"
      ],
      "text/plain": [
       "                    Name            Position  Age            Team_from  \\\n",
       "6              Luke Shaw           Left-Back   18          Southampton   \n",
       "8          Romelu Lukaku      Centre-Forward   21              Chelsea   \n",
       "20        Lazar Markovic        Right Winger   20              Benfica   \n",
       "21           Juan Iturbe        Right Winger   21               Verona   \n",
       "22           Sadio ManÃ©         Left Winger   22          RB Salzburg   \n",
       "..                   ...                 ...  ...                  ...   \n",
       "927        Marco Carraro  Defensive Midfield   20                Inter   \n",
       "928      Jonathan IkonÃ©  Attacking Midfield   20  Paris Saint Germain   \n",
       "929  Giangiacomo Magnani         Centre-Back   22             Juventus   \n",
       "930  Giangiacomo Magnani         Centre-Back   22              Perugia   \n",
       "931         Evan N'Dicka         Centre-Back   18           AJ Auxerre   \n",
       "\n",
       "    League_from              Team_to   League_to  Season  Market_value  \\\n",
       "6           EPL    Manchester United         EPL    2014          13.0   \n",
       "8           EPL              Everton         EPL    2014          25.0   \n",
       "20     Liga NOS            Liverpool         EPL    2014          10.0   \n",
       "21      Serie_A                 Roma     Serie_A    2014          20.0   \n",
       "22   Bundesliga          Southampton         EPL    2014           7.5   \n",
       "..          ...                  ...         ...     ...           ...   \n",
       "927     Serie_A             Atalanta     Serie_A    2018           0.8   \n",
       "928     Ligue_1                Lille     Ligue_1    2018           0.7   \n",
       "929     Serie_A             Sassuolo     Serie_A    2018           0.6   \n",
       "930     Serie B             Juventus     Serie_A    2018           0.6   \n",
       "931     Ligue 2  Eintracht Frankfurt  Bundesliga    2018           0.4   \n",
       "\n",
       "     Transfer  \n",
       "6       37.50  \n",
       "8       35.36  \n",
       "20      25.00  \n",
       "21      24.50  \n",
       "22      23.00  \n",
       "..        ...  \n",
       "927      5.00  \n",
       "928      5.00  \n",
       "929      5.00  \n",
       "930      5.00  \n",
       "931      5.00  \n",
       "\n",
       "[313 rows x 10 columns]"
      ]
     },
     "execution_count": 15,
     "metadata": {},
     "output_type": "execute_result"
    }
   ],
   "source": [
    "under_23_df = transfer_df[transfer_df['Age'] < 23]\n",
    "under_23_df"
   ]
  },
  {
   "cell_type": "markdown",
   "id": "9749c88d",
   "metadata": {},
   "source": [
    "Code bước 2"
   ]
  },
  {
   "cell_type": "code",
   "execution_count": 16,
   "id": "e85c556f",
   "metadata": {},
   "outputs": [
    {
     "data": {
      "text/html": [
       "<div>\n",
       "<style scoped>\n",
       "    .dataframe tbody tr th:only-of-type {\n",
       "        vertical-align: middle;\n",
       "    }\n",
       "\n",
       "    .dataframe tbody tr th {\n",
       "        vertical-align: top;\n",
       "    }\n",
       "\n",
       "    .dataframe thead th {\n",
       "        text-align: right;\n",
       "    }\n",
       "</style>\n",
       "<table border=\"1\" class=\"dataframe\">\n",
       "  <thead>\n",
       "    <tr style=\"text-align: right;\">\n",
       "      <th></th>\n",
       "      <th>Team</th>\n",
       "    </tr>\n",
       "    <tr>\n",
       "      <th>Season</th>\n",
       "      <th></th>\n",
       "    </tr>\n",
       "  </thead>\n",
       "  <tbody>\n",
       "    <tr>\n",
       "      <th>2014</th>\n",
       "      <td>Benfica</td>\n",
       "    </tr>\n",
       "    <tr>\n",
       "      <th>2015</th>\n",
       "      <td>Monaco</td>\n",
       "    </tr>\n",
       "    <tr>\n",
       "      <th>2016</th>\n",
       "      <td>Marseille</td>\n",
       "    </tr>\n",
       "    <tr>\n",
       "      <th>2017</th>\n",
       "      <td>Monaco</td>\n",
       "    </tr>\n",
       "    <tr>\n",
       "      <th>2018</th>\n",
       "      <td>Inter</td>\n",
       "    </tr>\n",
       "  </tbody>\n",
       "</table>\n",
       "</div>"
      ],
      "text/plain": [
       "             Team\n",
       "Season           \n",
       "2014      Benfica\n",
       "2015       Monaco\n",
       "2016    Marseille\n",
       "2017       Monaco\n",
       "2018        Inter"
      ]
     },
     "execution_count": 16,
     "metadata": {},
     "output_type": "execute_result"
    }
   ],
   "source": [
    "# Tìm ta số cầu thủ dưới 23 tuổi theo từng câu lạc bộ mỗi mùa giải\n",
    "tranfer_under_23_df = under_23_df.groupby(['Season','Team_from'])['Age'].agg([len])\n",
    "\n",
    "#Tìm ra tên câu lạc bộ có số cầu thủ bán là nhiều nhất\n",
    "tranfer_under_23_df = tranfer_under_23_df.groupby('Season').idxmax()\n",
    "tranfer_under_23_df['len'] = tranfer_under_23_df['len'].apply(lambda x: x[1])\n",
    "\n",
    "tranfer_under_23_df.columns = ['Team'] #đổi tên cột của dataframe\n",
    "tranfer_under_23_df\n"
   ]
  },
  {
   "cell_type": "markdown",
   "id": "7cb1b7df",
   "metadata": {},
   "source": [
    "**Nhận xét:** Qua từng mùa giải ta có thể biết được câu lạc bộ nào sẽ là những điểm đến tiềm năng cho các cầu thủ trẻ, trong đó đặc biệt câu lạc bộ `Monaco` của giải đấu `Ligue_1` là nơi đào tạo nhiều cầu thủ trẻ hay nhất cho thế giới ở cả 2 mùa giải 2015 và 2017."
   ]
  },
  {
   "cell_type": "markdown",
   "id": "931f355e",
   "metadata": {},
   "source": [
    "### Có phải tuổi nghề của môn bóng đá này là 30 hay không ?"
   ]
  },
  {
   "cell_type": "markdown",
   "id": "8bd59203",
   "metadata": {},
   "source": [
    "Để trả lời câu hỏi trên, cần thực hiện các bước như sau:\n",
    "- Bước 1: Trích series từ cột Age với tên `age_df` chứa toàn bộ danh sách tuổi của cầu thủ chuyển nhượng\n",
    "- Bước 2: Lưu số các cầu thủ thuộc các khoảng tuổi khác nhau vào 1 dictionary\n",
    "- Bước 3: Chia tổng số cầu thủ trong từng khoảng tuổi cho tổng tất cả cầu thủ chuyển nhượng để biết được số lượng phần trăm rồi vẽ đồ thị minh họa"
   ]
  },
  {
   "cell_type": "markdown",
   "id": "30c1841a",
   "metadata": {},
   "source": [
    "Code bước 1"
   ]
  },
  {
   "cell_type": "code",
   "execution_count": 17,
   "id": "c8234e76",
   "metadata": {},
   "outputs": [],
   "source": [
    "age_df = transfer_df['Age']\n",
    "\n",
    "list_range_age = ['x < 20', '20 <= x < 25', '25 <= x < 30', 'x >= 30']\n",
    "\n",
    "dict_age = dict.fromkeys(list_range_age, 0)"
   ]
  },
  {
   "cell_type": "markdown",
   "id": "c466f114",
   "metadata": {},
   "source": [
    "Code bước 2"
   ]
  },
  {
   "cell_type": "code",
   "execution_count": 18,
   "id": "ebb1958a",
   "metadata": {},
   "outputs": [],
   "source": [
    "def countAge(age):\n",
    "    if age < 20:\n",
    "        dict_age['x < 20'] += 1\n",
    "    elif age >= 20 and age < 25:\n",
    "        dict_age['20 <= x < 25'] += 1\n",
    "    elif age >= 25 and age < 30:\n",
    "        dict_age['25 <= x < 30'] += 1\n",
    "    elif age >= 30:\n",
    "        dict_age['x >= 30'] += 1\n",
    "\n",
    "age_df.apply(countAge)\n",
    "\n",
    "dict_age_df = pd.DataFrame.from_dict(dict_age, orient = 'index')"
   ]
  },
  {
   "cell_type": "markdown",
   "id": "1915f181",
   "metadata": {},
   "source": [
    "Code bước 3"
   ]
  },
  {
   "cell_type": "code",
   "execution_count": 19,
   "id": "0f01b8d3",
   "metadata": {},
   "outputs": [
    {
     "data": {
      "text/plain": [
       "Text(0.5, 0, 'Tỉ lệ %')"
      ]
     },
     "execution_count": 19,
     "metadata": {},
     "output_type": "execute_result"
    },
    {
     "data": {
      "image/png": "[encoded data removed]",
      "text/plain": [
       "<Figure size 432x288 with 1 Axes>"
      ]
     },
     "metadata": {
      "needs_background": "light"
     },
     "output_type": "display_data"
    }
   ],
   "source": [
    "dict_age_df.columns = ['Mount_footballer']\n",
    "\n",
    "ax = (dict_age_df['Mount_footballer'] / dict_age_df['Mount_footballer'].sum() * 100).round(1).sort_values(ascending=False).plot.barh()\n",
    "ax.set_xlabel('Tỉ lệ %')"
   ]
  },
  {
   "cell_type": "markdown",
   "id": "e32bd1ff",
   "metadata": {},
   "source": [
    "**Nhận xét:** Sau các mùa giải thì có vẻ sức hút của cầu thủ trên 30 tuổi rất kém so với các lứa nhỏ hơn, vì vậy sau 30 tuổi mà vẫn dữ được nghiệp cầu thủ là 1 lựa chọn vô cùng khó khăn và khó thành công được."
   ]
  },
  {
   "cell_type": "markdown",
   "id": "0c6d6f03",
   "metadata": {},
   "source": [
    "### Độ hot của các cầu thủ chuyển nhượng theo từng vị trí tiền đạo, tiền vệ, hậu vệ và thủ môn theo từng mùa giải ?"
   ]
  },
  {
   "cell_type": "markdown",
   "id": "0768e958",
   "metadata": {},
   "source": [
    "Để trả lời câu hỏi trên, cần thực hiện các bước như sau:\n",
    "- Bước 1: Tạo ra 1 cột mới tên là `Pos` để chứa vị trí tổng quát hơn từ cột `Position`.\n",
    "- Bước 2: Theo từng mùa mà tính tổng số lượng của mỗi loại vị trí được chuyển nhượng\n",
    "- Bước 3: Từ bước 2 ta đã có 1 dict chứa tổng số lượng cầu thủ chuyển nhượng theo từng vị trí của từng mùa mà vẽ đồ thị minh họa"
   ]
  },
  {
   "cell_type": "markdown",
   "id": "224f46dd",
   "metadata": {},
   "source": [
    "Code bước 1"
   ]
  },
  {
   "cell_type": "code",
   "execution_count": 20,
   "id": "3347341c",
   "metadata": {
    "scrolled": false
   },
   "outputs": [],
   "source": [
    "dict_pos = dict()\n",
    "dict_pos['striker'] = ['Centre-Forward', 'Right Winger', 'Second Striker', 'Left Winger']\n",
    "dict_pos['defender'] = ['Centre-Back', 'Left-Back', 'Right-Back']\n",
    "dict_pos['midfielder'] = ['Left Midfield', 'Right Midfield', 'Attacking Midfield',  'Defensive Midfield',  'Central Midfield']\n",
    "dict_pos['goalkeeper'] = ['Goalkeeper']\n",
    "\n",
    "def Choose_pos(pos):\n",
    "    for key, value in dict_pos.items():\n",
    "         if pos in value:\n",
    "            return key\n",
    "transfer_df['Pos'] = transfer_df['Position'].apply(Choose_pos)"
   ]
  },
  {
   "cell_type": "markdown",
   "id": "e38a9b46",
   "metadata": {},
   "source": [
    "Code bước 2"
   ]
  },
  {
   "cell_type": "code",
   "execution_count": 21,
   "id": "61785744",
   "metadata": {
    "scrolled": false
   },
   "outputs": [],
   "source": [
    "season = list(transfer_df['Season'].unique())\n",
    "\n",
    "cols = ['Season', 'Pos']\n",
    "pos_ss_df = transfer_df[cols]\n",
    "\n",
    "\n",
    "list_count = dict()\n",
    "for item in dict_pos.keys():\n",
    "    list_count[item] = list(pos_ss_df.where(pos_ss_df['Pos'] == item).dropna().groupby('Season')['Pos'].count())"
   ]
  },
  {
   "cell_type": "markdown",
   "id": "4462773e",
   "metadata": {},
   "source": [
    "Code bước 3"
   ]
  },
  {
   "cell_type": "code",
   "execution_count": 22,
   "id": "45c6fc7f",
   "metadata": {
    "scrolled": true
   },
   "outputs": [
    {
     "data": {
      "image/png": "[encoded data removed]",
      "text/plain": [
       "<Figure size 800x300 with 4 Axes>"
      ]
     },
     "metadata": {
      "needs_background": "light"
     },
     "output_type": "display_data"
    }
   ],
   "source": [
    "fig, (strike, midfield, defend, goalkeep) = plt.subplots(1,4, figsize=(8,3), sharey=True, dpi=100)\n",
    "strike.plot(season, list_count['striker'], 'ro-')\n",
    "midfield.plot(season, list_count['midfielder'], 'go-')\n",
    "defend.plot(season, list_count['defender'], 'bo-')\n",
    "goalkeep.plot(season, list_count['goalkeeper'], 'yo-')\n",
    "\n",
    "strike.set_title('striker'); \n",
    "midfield.set_title('midfielder')\n",
    "defend.set_title('defender')\n",
    "goalkeep.set_title('goalkeeper')\n",
    "\n",
    "strike.set_xlabel('Year');  midfield.set_xlabel('Year');  defend.set_xlabel('Year'); goalkeep.set_xlabel('Year');\n",
    "strike.set_ylabel('Mount');  midfield.set_ylabel('Mount');  defend.set_ylabel('Mount'); goalkeep.set_ylabel('Mount');  \n",
    "\n",
    "plt.tight_layout()\n",
    "plt.show()"
   ]
  },
  {
   "cell_type": "markdown",
   "id": "45d8d9b2",
   "metadata": {},
   "source": [
    "**Nhận xét:** Sau các mùa giải thì sức hút của tiền đạo là cao hơn nhiều so với các vị trí còn lại, tiền vệ và hậu vệ thì ngang nhau và còn thủ môn thì rất ít được quan tâm so với các vị trí khác."
   ]
  },
  {
   "cell_type": "markdown",
   "id": "e2723768",
   "metadata": {},
   "source": [
    "### Mức giá trung bình của từng loại vị trí trên thị trường chuyển nhượng như thế nào ?"
   ]
  },
  {
   "cell_type": "markdown",
   "id": "858720d8",
   "metadata": {},
   "source": [
    "Để trả lời câu hỏi trên, cần thực hiện các bước như sau:\n",
    "- Bước 1: Tạo ra 1 cột mới tên là `Pos` để chứa vị trí tổng quát hơn từ cột `Position`.\n",
    "- Bước 2: Theo từng mùa mà tính giá trị chuyển nhượng trung bình của từng vị trí và lưu vào 1 dataframe. `pos_trasfer_per_season_df` rồi vẽ đồ thị minh họa."
   ]
  },
  {
   "cell_type": "markdown",
   "id": "b5d1ad34",
   "metadata": {},
   "source": [
    "Code bước 1"
   ]
  },
  {
   "cell_type": "code",
   "execution_count": 23,
   "id": "a1515719",
   "metadata": {
    "scrolled": false
   },
   "outputs": [],
   "source": [
    "dict_pos = dict()\n",
    "dict_pos['striker'] = ['Centre-Forward', 'Right Winger', 'Second Striker', 'Left Winger']\n",
    "dict_pos['defender'] = ['Centre-Back', 'Left-Back', 'Right-Back']\n",
    "dict_pos['midfielder'] = ['Left Midfield', 'Right Midfield', 'Attacking Midfield',  'Defensive Midfield',  'Central Midfield']\n",
    "dict_pos['goalkeeper'] = ['Goalkeeper']\n",
    "\n",
    "def Choose_pos(pos):\n",
    "    for key, value in dict_pos.items():\n",
    "         if pos in value:\n",
    "            return key\n",
    "transfer_df['Pos'] = transfer_df['Position'].apply(Choose_pos)"
   ]
  },
  {
   "cell_type": "markdown",
   "id": "e35c2efb",
   "metadata": {},
   "source": [
    "Code bước 2"
   ]
  },
  {
   "cell_type": "code",
   "execution_count": 24,
   "id": "aff5566b",
   "metadata": {},
   "outputs": [
    {
     "data": {
      "image/png": "[encoded data removed]",
      "text/plain": [
       "<Figure size 432x288 with 2 Axes>"
      ]
     },
     "metadata": {
      "needs_background": "light"
     },
     "output_type": "display_data"
    }
   ],
   "source": [
    "season = list(transfer_df['Season'].unique())\n",
    "\n",
    "cols = ['Season', 'Pos', 'Transfer']\n",
    "pos_ss_df = transfer_df[cols]\n",
    "\n",
    "\n",
    "list_count = dict()\n",
    "for item in dict_pos.keys():\n",
    "    list_count[item] = list(pos_ss_df.where(pos_ss_df['Pos'] == item).dropna().groupby('Season')['Transfer'].mean().round(3))\n",
    "\n",
    "pos_trasfer_per_season_df = pd.DataFrame(list_count.values(), columns=season, index = list_count.keys())\n",
    "\n",
    "sns.heatmap(pos_trasfer_per_season_df, annot=True)\n",
    "plt.show()"
   ]
  },
  {
   "cell_type": "markdown",
   "id": "da3a0994",
   "metadata": {},
   "source": [
    "**Nhận xét:** Giá trị của cầu thủ tăng theo từng năm, có lẽ do lứa cầu thủ càng ngày càng đắt giá chăng ? và nhìn chung thì cũng không có sự khác biệt gì quá lớn giữa các giá trị chuyển nhượng trung bình của từng vị trí."
   ]
  },
  {
   "cell_type": "markdown",
   "id": "3ec5e4ef",
   "metadata": {},
   "source": [
    "---"
   ]
  },
  {
   "cell_type": "markdown",
   "id": "0662b0a3",
   "metadata": {},
   "source": [
    "## Nhìn lại quá trình làm đồ án"
   ]
  },
  {
   "cell_type": "markdown",
   "id": "399df609",
   "metadata": {},
   "source": [
    "### Khó khăn ###"
   ]
  },
  {
   "cell_type": "markdown",
   "id": "5cd13823",
   "metadata": {},
   "source": [
    "- Trong việc chọn bộ dữ liệu, phân vân xem nó có đủ tốt để chọn làm mẫu cho đồ án này hay không\n",
    "- Việc sử dụng git để tương tác làm việc với nhau trên github (conflict code)"
   ]
  },
  {
   "cell_type": "markdown",
   "id": "97a56a06",
   "metadata": {},
   "source": [
    "### Những điều học được ###"
   ]
  },
  {
   "cell_type": "markdown",
   "id": "52ef7c1b",
   "metadata": {},
   "source": [
    "- Sử dụng khá thành thạo các thư viện pandas, numpy, matplolib\n",
    "\n",
    "- Hình dung ra được đường đi rõ ràng trong quá trình khám phá và khai thác dữ liệu.\n",
    "\n",
    "- Nắm được phần nào qui trình làm việc nhóm khi sử dụng git"
   ]
  },
  {
   "cell_type": "markdown",
   "id": "09f5c5fc",
   "metadata": {},
   "source": [
    "---"
   ]
  },
  {
   "cell_type": "markdown",
   "id": "a4df72be",
   "metadata": {},
   "source": [
    "## Tài liệu tham khảo"
   ]
  },
  {
   "cell_type": "markdown",
   "id": "b8434c27",
   "metadata": {},
   "source": [
    "[1] File notebook về Pandas (Demo-11 đến Demo-14).\n",
    "\n",
    "[2] HW01, HW02 và HW03.\n",
    "\n",
    "[3] [pandas documentation](https://pandas.pydata.org/docs/)\n"
   ]
  }
 ],
 "metadata": {
  "kernelspec": {
   "display_name": "Python 3",
   "language": "python",
   "name": "python3"
  },
  "language_info": {
   "codemirror_mode": {
    "name": "ipython",
    "version": 3
   },
   "file_extension": ".py",
   "mimetype": "text/x-python",
   "name": "python",
   "nbconvert_exporter": "python",
   "pygments_lexer": "ipython3",
   "version": "3.8.8"
  }
 },
 "nbformat": 4,
 "nbformat_minor": 5
}
